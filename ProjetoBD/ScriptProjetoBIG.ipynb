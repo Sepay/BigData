{
 "cells": [
  {
   "cell_type": "code",
   "execution_count": 17,
   "id": "5bb5d878",
   "metadata": {},
   "outputs": [
    {
     "name": "stdout",
     "output_type": "stream",
     "text": [
      "Defaulting to user installation because normal site-packages is not writeable\n",
      "Requirement already satisfied: pyspark in /home/sepay/.local/lib/python3.10/site-packages (3.3.1)\n",
      "Requirement already satisfied: py4j==0.10.9.5 in /home/sepay/.local/lib/python3.10/site-packages (from pyspark) (0.10.9.5)\n",
      "Defaulting to user installation because normal site-packages is not writeable\n",
      "Requirement already satisfied: findspark in /home/sepay/.local/lib/python3.10/site-packages (2.0.1)\n"
     ]
    }
   ],
   "source": [
    "!pip install pyspark\n",
    "!pip install findspark"
   ]
  },
  {
   "cell_type": "code",
   "execution_count": 18,
   "id": "4828caa5",
   "metadata": {},
   "outputs": [
    {
     "data": {
      "text/html": [
       "\n",
       "            <div>\n",
       "                <p><b>SparkSession - in-memory</b></p>\n",
       "                \n",
       "        <div>\n",
       "            <p><b>SparkContext</b></p>\n",
       "\n",
       "            <p><a href=\"http://sepay-HP.home:4040\">Spark UI</a></p>\n",
       "\n",
       "            <dl>\n",
       "              <dt>Version</dt>\n",
       "                <dd><code>v3.3.1</code></dd>\n",
       "              <dt>Master</dt>\n",
       "                <dd><code>local[*]</code></dd>\n",
       "              <dt>AppName</dt>\n",
       "                <dd><code>Pyspark Tutorial</code></dd>\n",
       "            </dl>\n",
       "        </div>\n",
       "        \n",
       "            </div>\n",
       "        "
      ],
      "text/plain": [
       "<pyspark.sql.session.SparkSession at 0x7f9d28383a00>"
      ]
     },
     "execution_count": 18,
     "metadata": {},
     "output_type": "execute_result"
    }
   ],
   "source": [
    "from pyspark.sql import SparkSession\n",
    "import findspark\n",
    "\n",
    "findspark.init()\n",
    "\n",
    "spark = SparkSession.builder.appName(\"Pyspark Tutorial\")\\\n",
    "                    .config(\"spark.memory.offHeap.enabled\",\"true\")\\\n",
    "                    .config(\"spark.memory.offHeap.size\",\"10g\")\\\n",
    "                    .getOrCreate()\n",
    "\n",
    "\n",
    "# check spark configuration\n",
    "\n",
    "spark"
   ]
  },
  {
   "cell_type": "code",
   "execution_count": 90,
   "id": "c6f8e230",
   "metadata": {},
   "outputs": [
    {
     "name": "stdout",
     "output_type": "stream",
     "text": [
      "  % Total    % Received % Xferd  Average Speed   Time    Time     Time  Current\n",
      "                                 Dload  Upload   Total   Spent    Left  Speed\n",
      "100  257k  100  257k    0     0   641k      0 --:--:-- --:--:-- --:--:--  642k\n"
     ]
    }
   ],
   "source": [
    "!curl https://raw.githubusercontent.com/Sepay/Programming/main/obesity.csv >> obesity.csv\n",
    "    \n",
    "df = spark.read.csv('obesity.csv',header=True,sep=\",\")"
   ]
  },
  {
   "cell_type": "code",
   "execution_count": 91,
   "id": "214d12f8",
   "metadata": {},
   "outputs": [],
   "source": [
    "df = df.withColumnRenamed('family_history_with_overweight', 'FH')"
   ]
  },
  {
   "cell_type": "code",
   "execution_count": 92,
   "id": "366517a6",
   "metadata": {},
   "outputs": [
    {
     "name": "stdout",
     "output_type": "stream",
     "text": [
      "+------+---+------+------+---+----+----+---+---------+-----+----+---+---+---+----------+---------------------+-------------------+\n",
      "|Gender|Age|Height|Weight|FH |FAVC|FCVC|NCP|CAEC     |SMOKE|CH2O|SCC|FAF|TUE|CALC      |MTRANS               |NObeyesdad         |\n",
      "+------+---+------+------+---+----+----+---+---------+-----+----+---+---+---+----------+---------------------+-------------------+\n",
      "|Female|21 |1.62  |64    |yes|no  |2   |3  |Sometimes|no   |2   |no |0  |1  |no        |Public_Transportation|Normal_Weight      |\n",
      "|Female|21 |1.52  |56    |yes|no  |3   |3  |Sometimes|yes  |3   |yes|3  |0  |Sometimes |Public_Transportation|Normal_Weight      |\n",
      "|Male  |23 |1.8   |77    |yes|no  |2   |3  |Sometimes|no   |2   |no |2  |1  |Frequently|Public_Transportation|Normal_Weight      |\n",
      "|Male  |27 |1.8   |87    |no |no  |3   |3  |Sometimes|no   |2   |no |2  |0  |Frequently|Walking              |Overweight_Level_I |\n",
      "|Male  |22 |1.78  |89.8  |no |no  |2   |1  |Sometimes|no   |2   |no |0  |0  |Sometimes |Public_Transportation|Overweight_Level_II|\n",
      "+------+---+------+------+---+----+----+---+---------+-----+----+---+---+---+----------+---------------------+-------------------+\n",
      "only showing top 5 rows\n",
      "\n"
     ]
    }
   ],
   "source": [
    "df.show(5,0)"
   ]
  },
  {
   "cell_type": "code",
   "execution_count": 93,
   "id": "fc973d82",
   "metadata": {},
   "outputs": [
    {
     "data": {
      "text/plain": [
       "21119"
      ]
     },
     "execution_count": 93,
     "metadata": {},
     "output_type": "execute_result"
    }
   ],
   "source": [
    "df.count()"
   ]
  },
  {
   "cell_type": "code",
   "execution_count": 94,
   "id": "69835111",
   "metadata": {},
   "outputs": [],
   "source": [
    "df= df.drop('TUE')"
   ]
  },
  {
   "cell_type": "code",
   "execution_count": 95,
   "id": "fa01306d",
   "metadata": {},
   "outputs": [
    {
     "name": "stdout",
     "output_type": "stream",
     "text": [
      "+------+---+------+------+---+----+----+---+----------+-----+----+---+---+----------+--------------------+-------------------+\n",
      "|Gender|Age|Height|Weight| FH|FAVC|FCVC|NCP|      CAEC|SMOKE|CH2O|SCC|FAF|      CALC|              MTRANS|         NObeyesdad|\n",
      "+------+---+------+------+---+----+----+---+----------+-----+----+---+---+----------+--------------------+-------------------+\n",
      "|Female| 21|  1.62|    64|yes|  no|   2|  3| Sometimes|   no|   2| no|  0|        no|Public_Transporta...|      Normal_Weight|\n",
      "|Female| 21|  1.52|    56|yes|  no|   3|  3| Sometimes|  yes|   3|yes|  3| Sometimes|Public_Transporta...|      Normal_Weight|\n",
      "|  Male| 23|   1.8|    77|yes|  no|   2|  3| Sometimes|   no|   2| no|  2|Frequently|Public_Transporta...|      Normal_Weight|\n",
      "|  Male| 27|   1.8|    87| no|  no|   3|  3| Sometimes|   no|   2| no|  2|Frequently|             Walking| Overweight_Level_I|\n",
      "|  Male| 22|  1.78|  89.8| no|  no|   2|  1| Sometimes|   no|   2| no|  0| Sometimes|Public_Transporta...|Overweight_Level_II|\n",
      "|  Male| 29|  1.62|    53| no| yes|   2|  3| Sometimes|   no|   2| no|  0| Sometimes|          Automobile|      Normal_Weight|\n",
      "|Female| 23|   1.5|    55|yes| yes|   3|  3| Sometimes|   no|   2| no|  1| Sometimes|           Motorbike|      Normal_Weight|\n",
      "|  Male| 22|  1.64|    53| no|  no|   2|  3| Sometimes|   no|   2| no|  3| Sometimes|Public_Transporta...|      Normal_Weight|\n",
      "|  Male| 24|  1.78|    64|yes| yes|   3|  3| Sometimes|   no|   2| no|  1|Frequently|Public_Transporta...|      Normal_Weight|\n",
      "|  Male| 22|  1.72|    68|yes| yes|   2|  3| Sometimes|   no|   2| no|  1|        no|Public_Transporta...|      Normal_Weight|\n",
      "|  Male| 26|  1.85|   105|yes| yes|   3|  3|Frequently|   no|   3| no|  2| Sometimes|Public_Transporta...|     Obesity_Type_I|\n",
      "|Female| 21|  1.72|    80|yes| yes|   2|  3|Frequently|   no|   2|yes|  2| Sometimes|Public_Transporta...|Overweight_Level_II|\n",
      "|  Male| 22|  1.65|    56| no|  no|   3|  3| Sometimes|   no|   3| no|  2| Sometimes|Public_Transporta...|      Normal_Weight|\n",
      "|  Male| 41|   1.8|    99| no| yes|   2|  3| Sometimes|   no|   2| no|  2|Frequently|          Automobile|     Obesity_Type_I|\n",
      "|  Male| 23|  1.77|    60|yes| yes|   3|  1| Sometimes|   no|   1| no|  1| Sometimes|Public_Transporta...|      Normal_Weight|\n",
      "|Female| 22|   1.7|    66|yes|  no|   3|  3|    Always|   no|   2|yes|  2| Sometimes|Public_Transporta...|      Normal_Weight|\n",
      "|  Male| 27|  1.93|   102|yes| yes|   2|  1| Sometimes|   no|   1| no|  1| Sometimes|Public_Transporta...|Overweight_Level_II|\n",
      "|Female| 29|  1.53|    78| no| yes|   2|  1| Sometimes|   no|   2| no|  0|        no|          Automobile|     Obesity_Type_I|\n",
      "|Female| 30|  1.71|    82|yes| yes|   3|  4|Frequently|  yes|   1| no|  0|        no|          Automobile|Overweight_Level_II|\n",
      "|Female| 23|  1.65|    70|yes|  no|   2|  1| Sometimes|   no|   2| no|  0| Sometimes|Public_Transporta...| Overweight_Level_I|\n",
      "+------+---+------+------+---+----+----+---+----------+-----+----+---+---+----------+--------------------+-------------------+\n",
      "only showing top 20 rows\n",
      "\n"
     ]
    }
   ],
   "source": [
    "df.show()"
   ]
  },
  {
   "attachments": {},
   "cell_type": "markdown",
   "id": "d42851db",
   "metadata": {},
   "source": [
    "# Variáveis\n",
    "\n",
    "Retirou-se a coluna dos telemoveis \n",
    "\n",
    "# TRATAMENTO DE DADOS\n",
    "\n",
    "Alterou-se as colunas Gender, FH, CAEC, SMOLE, SCC, CALC, MTRANS, OBESITY para inteiros para ser mais facil executar os algoritmos\n"
   ]
  },
  {
   "cell_type": "code",
   "execution_count": 96,
   "id": "629a125c",
   "metadata": {},
   "outputs": [
    {
     "name": "stdout",
     "output_type": "stream",
     "text": [
      "+-------------------+-----+\n",
      "|         NObeyesdad|count|\n",
      "+-------------------+-----+\n",
      "|   Obesity_Type_III| 3240|\n",
      "| Overweight_Level_I| 2900|\n",
      "|    Obesity_Type_II| 2970|\n",
      "|Insufficient_Weight| 2720|\n",
      "|Overweight_Level_II| 2900|\n",
      "|      Normal_Weight| 2870|\n",
      "|         NObeyesdad|    9|\n",
      "|     Obesity_Type_I| 3510|\n",
      "+-------------------+-----+\n",
      "\n"
     ]
    }
   ],
   "source": [
    "df.groupBy('NObeyesdad').count().show()"
   ]
  },
  {
   "cell_type": "code",
   "execution_count": 97,
   "id": "414f8d4d",
   "metadata": {},
   "outputs": [],
   "source": [
    "from pyspark.sql.functions import * \n",
    "\n",
    "df = df.withColumn(\"CAEC\", when(col(\"CAEC\")== \"Sometimes\", 0).when(col(\"CAEC\") == \"Frequently\", 1).otherwise(2))\n",
    "df = df.withColumn(\"Gender\", when(col(\"Gender\")== \"Female\", 0).otherwise(1))\n",
    "df = df.withColumn(\"FH\", when(col(\"FH\")== \"yes\", 0).otherwise(1))\n",
    "df = df.withColumn(\"FAVC\", when(col(\"FAVC\")== \"yes\", 0).otherwise(1))\n",
    "df = df.withColumn(\"SMOKE\", when(col(\"SMOKE\")== \"yes\", 0).otherwise(1))\n",
    "df = df.withColumn(\"SCC\", when(col(\"SCC\")== \"yes\", 0).otherwise(1))\n",
    "df = df.withColumn(\"CALC\", when(col(\"CALC\")== \"no\", 0).when(col(\"CALC\") == \"Sometimes\", 1).when(col(\"CALC\")==\"Frequently\", 2).otherwise(3))\n",
    "df = df.withColumn(\"MTRANS\", when(col(\"MTRANS\")== \"Public_Transportation\", 0).when(col(\"MTRANS\") == \"Automobile\", 0).when(col(\"MTRANS\")==\"Motorbike\", 0).otherwise(1))\n",
    "df = df.withColumn(\"NObeyesdad\", when(col(\"NObeyesdad\")== \"Insufficient_Weight\", 0).when(col(\"NObeyesdad\") == \"Normal_Weight\", 1).when(col(\"NObeyesdad\")==\"Overweight_Level_I\", 2).when(col(\"NObeyesdad\")== \"Overweight_Level_II\",3).otherwise(4))\n",
    "df = df.withColumn(\"FCVC\", when(col(\"FCVC\")== null, 2))"
   ]
  },
  {
   "cell_type": "code",
   "execution_count": 98,
   "id": "890ef891",
   "metadata": {},
   "outputs": [],
   "source": [
    "df = df.withColumnRenamed(\"family_history_with_overweight\",\"Family_HIST\")\n",
    "df = df.withColumnRenamed('FAVC','CALORICFOOD')\n",
    "df=df.withColumnRenamed('Gender','GENDER')\n",
    "df=df.withColumnRenamed('Age','AGE')\n",
    "df=df.withColumnRenamed('Weight','WEIGHT')\n",
    "df=df.withColumnRenamed('Height','HEIGHT')\n",
    "df=df.withColumnRenamed('FCVC','VEGET')\n",
    "df=df.withColumnRenamed('NCP','MEALS')\n",
    "df=df.withColumnRenamed('CAEC','BETWEENMEALS')\n",
    "df=df.withColumnRenamed('CH2O','H20')\n",
    "df=df.withColumnRenamed('SCC','CALORIES')\n",
    "df=df.withColumnRenamed('FAF','PHYSY')\n",
    "df=df.withColumnRenamed('CALC','ALCH')\n",
    "df=df.withColumnRenamed('MTRANS','TRANSPORT')\n",
    "df=df.withColumnRenamed('NObeyesdad','OBESITY')"
   ]
  },
  {
   "cell_type": "code",
   "execution_count": 99,
   "id": "ef64609b",
   "metadata": {},
   "outputs": [
    {
     "name": "stdout",
     "output_type": "stream",
     "text": [
      "+------+---+------+------+---+-----------+-----+-----+------------+-----+---+--------+-----+----+---------+-------+\n",
      "|GENDER|AGE|HEIGHT|WEIGHT| FH|CALORICFOOD|VEGET|MEALS|BETWEENMEALS|SMOKE|H20|CALORIES|PHYSY|ALCH|TRANSPORT|OBESITY|\n",
      "+------+---+------+------+---+-----------+-----+-----+------------+-----+---+--------+-----+----+---------+-------+\n",
      "|     0| 21|  1.62|    64|  0|          1| null|    3|           0|    1|  2|       1|    0|   0|        0|      1|\n",
      "|     0| 21|  1.52|    56|  0|          1| null|    3|           0|    0|  3|       0|    3|   1|        0|      1|\n",
      "|     1| 23|   1.8|    77|  0|          1| null|    3|           0|    1|  2|       1|    2|   2|        0|      1|\n",
      "|     1| 27|   1.8|    87|  1|          1| null|    3|           0|    1|  2|       1|    2|   2|        1|      2|\n",
      "|     1| 22|  1.78|  89.8|  1|          1| null|    1|           0|    1|  2|       1|    0|   1|        0|      3|\n",
      "|     1| 29|  1.62|    53|  1|          0| null|    3|           0|    1|  2|       1|    0|   1|        0|      1|\n",
      "|     0| 23|   1.5|    55|  0|          0| null|    3|           0|    1|  2|       1|    1|   1|        0|      1|\n",
      "|     1| 22|  1.64|    53|  1|          1| null|    3|           0|    1|  2|       1|    3|   1|        0|      1|\n",
      "|     1| 24|  1.78|    64|  0|          0| null|    3|           0|    1|  2|       1|    1|   2|        0|      1|\n",
      "|     1| 22|  1.72|    68|  0|          0| null|    3|           0|    1|  2|       1|    1|   0|        0|      1|\n",
      "|     1| 26|  1.85|   105|  0|          0| null|    3|           1|    1|  3|       1|    2|   1|        0|      4|\n",
      "|     0| 21|  1.72|    80|  0|          0| null|    3|           1|    1|  2|       0|    2|   1|        0|      3|\n",
      "|     1| 22|  1.65|    56|  1|          1| null|    3|           0|    1|  3|       1|    2|   1|        0|      1|\n",
      "|     1| 41|   1.8|    99|  1|          0| null|    3|           0|    1|  2|       1|    2|   2|        0|      4|\n",
      "|     1| 23|  1.77|    60|  0|          0| null|    1|           0|    1|  1|       1|    1|   1|        0|      1|\n",
      "|     0| 22|   1.7|    66|  0|          1| null|    3|           2|    1|  2|       0|    2|   1|        0|      1|\n",
      "|     1| 27|  1.93|   102|  0|          0| null|    1|           0|    1|  1|       1|    1|   1|        0|      3|\n",
      "|     0| 29|  1.53|    78|  1|          0| null|    1|           0|    1|  2|       1|    0|   0|        0|      4|\n",
      "|     0| 30|  1.71|    82|  0|          0| null|    4|           1|    0|  1|       1|    0|   0|        0|      3|\n",
      "|     0| 23|  1.65|    70|  0|          1| null|    1|           0|    1|  2|       1|    0|   1|        0|      2|\n",
      "+------+---+------+------+---+-----------+-----+-----+------------+-----+---+--------+-----+----+---------+-------+\n",
      "only showing top 20 rows\n",
      "\n"
     ]
    }
   ],
   "source": [
    "df.show()"
   ]
  },
  {
   "attachments": {},
   "cell_type": "markdown",
   "id": "cecfb284",
   "metadata": {},
   "source": [
    "Converter tudo para int"
   ]
  },
  {
   "cell_type": "code",
   "execution_count": 100,
   "id": "3f83e3a6",
   "metadata": {},
   "outputs": [
    {
     "name": "stdout",
     "output_type": "stream",
     "text": [
      "root\n",
      " |-- GENDER: integer (nullable = false)\n",
      " |-- AGE: string (nullable = true)\n",
      " |-- HEIGHT: string (nullable = true)\n",
      " |-- WEIGHT: string (nullable = true)\n",
      " |-- FH: integer (nullable = false)\n",
      " |-- CALORICFOOD: integer (nullable = false)\n",
      " |-- VEGET: integer (nullable = true)\n",
      " |-- MEALS: integer (nullable = true)\n",
      " |-- BETWEENMEALS: integer (nullable = false)\n",
      " |-- SMOKE: integer (nullable = false)\n",
      " |-- H20: integer (nullable = true)\n",
      " |-- CALORIES: integer (nullable = false)\n",
      " |-- PHYSY: integer (nullable = true)\n",
      " |-- ALCH: integer (nullable = false)\n",
      " |-- TRANSPORT: integer (nullable = false)\n",
      " |-- OBESITY: integer (nullable = false)\n",
      "\n"
     ]
    }
   ],
   "source": [
    "from pyspark.sql.types import StringType,BooleanType,DateType, IntegerType\n",
    "df = df.withColumn(\"VEGET\",col(\"VEGET\").cast(IntegerType())) \\\n",
    "    .withColumn(\"MEALS\",col(\"MEALS\").cast(IntegerType())) \\\n",
    "    .withColumn(\"H20\",col(\"H20\").cast(IntegerType())) \\\n",
    "    .withColumn(\"PHYSY\",col(\"PHYSY\").cast(IntegerType()))\n",
    "df.printSchema()"
   ]
  },
  {
   "cell_type": "code",
   "execution_count": 101,
   "id": "f037261b",
   "metadata": {},
   "outputs": [],
   "source": [
    "from pyspark.ml.feature import VectorAssembler\n",
    "from pyspark.ml.feature import StandardScaler\n",
    "\n",
    "assemble=VectorAssembler(inputCols=[\n",
    "    'FH','CALORICFOOD', \"SMOKE\"\n",
    "], outputCol='features')"
   ]
  },
  {
   "cell_type": "code",
   "execution_count": 102,
   "id": "a0dd6e81",
   "metadata": {},
   "outputs": [],
   "source": [
    "assembled_data=assemble.transform(df)"
   ]
  },
  {
   "cell_type": "code",
   "execution_count": 103,
   "id": "3690e7e6",
   "metadata": {},
   "outputs": [
    {
     "name": "stdout",
     "output_type": "stream",
     "text": [
      "+------------------------------------------+\n",
      "|standardized                              |\n",
      "+------------------------------------------+\n",
      "|[0.0,3.1176544928173704,7.001191599425064]|\n",
      "|[0.0,3.1176544928173704,0.0]              |\n",
      "+------------------------------------------+\n",
      "only showing top 2 rows\n",
      "\n"
     ]
    }
   ],
   "source": [
    "scale=StandardScaler(inputCol='features',outputCol='standardized')\n",
    "data_scale=scale.fit(assembled_data)\n",
    "data_scale_output=data_scale.transform(assembled_data)\n",
    "\n",
    "data_scale_output.select('standardized').show(2,truncate=False)"
   ]
  },
  {
   "cell_type": "code",
   "execution_count": null,
   "id": "939a134e",
   "metadata": {},
   "outputs": [],
   "source": []
  },
  {
   "cell_type": "code",
   "execution_count": null,
   "id": "e6b037c9",
   "metadata": {},
   "outputs": [],
   "source": []
  }
 ],
 "metadata": {
  "kernelspec": {
   "display_name": "Python 3",
   "language": "python",
   "name": "python3"
  },
  "language_info": {
   "codemirror_mode": {
    "name": "ipython",
    "version": 3
   },
   "file_extension": ".py",
   "mimetype": "text/x-python",
   "name": "python",
   "nbconvert_exporter": "python",
   "pygments_lexer": "ipython3",
   "version": "3.10.6"
  },
  "vscode": {
   "interpreter": {
    "hash": "916dbcbb3f70747c44a77c7bcd40155683ae19c65e1c03b4aa3499c5328201f1"
   }
  }
 },
 "nbformat": 4,
 "nbformat_minor": 5
}
