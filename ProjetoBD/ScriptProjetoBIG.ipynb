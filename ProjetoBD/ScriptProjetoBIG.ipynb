{
 "cells": [
  {
   "cell_type": "code",
   "execution_count": 72,
   "id": "5bb5d878",
   "metadata": {},
   "outputs": [
    {
     "name": "stdout",
     "output_type": "stream",
     "text": [
      "Defaulting to user installation because normal site-packages is not writeable\n",
      "Requirement already satisfied: pyspark in /home/sepay/.local/lib/python3.10/site-packages (3.3.1)\n",
      "Requirement already satisfied: py4j==0.10.9.5 in /home/sepay/.local/lib/python3.10/site-packages (from pyspark) (0.10.9.5)\n",
      "Defaulting to user installation because normal site-packages is not writeable\n",
      "Requirement already satisfied: findspark in /home/sepay/.local/lib/python3.10/site-packages (2.0.1)\n",
      "Defaulting to user installation because normal site-packages is not writeable\n",
      "Requirement already satisfied: pandas in /home/sepay/.local/lib/python3.10/site-packages (1.5.3)\n",
      "Requirement already satisfied: pytz>=2020.1 in /usr/lib/python3/dist-packages (from pandas) (2022.1)\n",
      "Requirement already satisfied: numpy>=1.21.0 in /home/sepay/.local/lib/python3.10/site-packages (from pandas) (1.24.1)\n",
      "Requirement already satisfied: python-dateutil>=2.8.1 in /home/sepay/.local/lib/python3.10/site-packages (from pandas) (2.8.2)\n",
      "Requirement already satisfied: six>=1.5 in /usr/lib/python3/dist-packages (from python-dateutil>=2.8.1->pandas) (1.16.0)\n",
      "Defaulting to user installation because normal site-packages is not writeable\n",
      "Requirement already satisfied: scikit-learn in /home/sepay/.local/lib/python3.10/site-packages (1.2.0)\n",
      "Requirement already satisfied: scipy>=1.3.2 in /home/sepay/.local/lib/python3.10/site-packages (from scikit-learn) (1.10.0)\n",
      "Requirement already satisfied: numpy>=1.17.3 in /home/sepay/.local/lib/python3.10/site-packages (from scikit-learn) (1.24.1)\n",
      "Requirement already satisfied: joblib>=1.1.1 in /home/sepay/.local/lib/python3.10/site-packages (from scikit-learn) (1.2.0)\n",
      "Requirement already satisfied: threadpoolctl>=2.0.0 in /home/sepay/.local/lib/python3.10/site-packages (from scikit-learn) (3.1.0)\n",
      "Defaulting to user installation because normal site-packages is not writeable\n",
      "Requirement already satisfied: matplotlib in /home/sepay/.local/lib/python3.10/site-packages (3.6.3)\n",
      "Requirement already satisfied: pillow>=6.2.0 in /usr/lib/python3/dist-packages (from matplotlib) (9.0.1)\n",
      "Requirement already satisfied: kiwisolver>=1.0.1 in /home/sepay/.local/lib/python3.10/site-packages (from matplotlib) (1.4.4)\n",
      "Requirement already satisfied: pyparsing>=2.2.1 in /usr/lib/python3/dist-packages (from matplotlib) (2.4.7)\n",
      "Requirement already satisfied: numpy>=1.19 in /home/sepay/.local/lib/python3.10/site-packages (from matplotlib) (1.24.1)\n",
      "Requirement already satisfied: fonttools>=4.22.0 in /home/sepay/.local/lib/python3.10/site-packages (from matplotlib) (4.38.0)\n",
      "Requirement already satisfied: contourpy>=1.0.1 in /home/sepay/.local/lib/python3.10/site-packages (from matplotlib) (1.0.7)\n",
      "Requirement already satisfied: packaging>=20.0 in /home/sepay/.local/lib/python3.10/site-packages (from matplotlib) (23.0)\n",
      "Requirement already satisfied: python-dateutil>=2.7 in /home/sepay/.local/lib/python3.10/site-packages (from matplotlib) (2.8.2)\n",
      "Requirement already satisfied: cycler>=0.10 in /home/sepay/.local/lib/python3.10/site-packages (from matplotlib) (0.11.0)\n",
      "Requirement already satisfied: six>=1.5 in /usr/lib/python3/dist-packages (from python-dateutil>=2.7->matplotlib) (1.16.0)\n",
      "Defaulting to user installation because normal site-packages is not writeable\n",
      "Collecting treeplot\n",
      "  Using cached treeplot-0.1.16-py3-none-any.whl (8.7 kB)\n",
      "Requirement already satisfied: numpy in /home/sepay/.local/lib/python3.10/site-packages (from treeplot) (1.24.1)\n",
      "Collecting graphviz>=0.20.1\n",
      "  Using cached graphviz-0.20.1-py3-none-any.whl (47 kB)\n",
      "Collecting funcsigs\n",
      "  Using cached funcsigs-1.0.2-py2.py3-none-any.whl (17 kB)\n",
      "Requirement already satisfied: matplotlib in /home/sepay/.local/lib/python3.10/site-packages (from treeplot) (3.6.3)\n",
      "Collecting wget\n",
      "  Using cached wget-3.2.zip (10 kB)\n",
      "  Preparing metadata (setup.py) ... \u001b[?25ldone\n",
      "\u001b[?25hCollecting sklearn\n",
      "  Using cached sklearn-0.0.post1.tar.gz (3.6 kB)\n",
      "  Preparing metadata (setup.py) ... \u001b[?25ldone\n",
      "\u001b[?25hRequirement already satisfied: kiwisolver>=1.0.1 in /home/sepay/.local/lib/python3.10/site-packages (from matplotlib->treeplot) (1.4.4)\n",
      "Requirement already satisfied: packaging>=20.0 in /home/sepay/.local/lib/python3.10/site-packages (from matplotlib->treeplot) (23.0)\n",
      "Requirement already satisfied: pillow>=6.2.0 in /usr/lib/python3/dist-packages (from matplotlib->treeplot) (9.0.1)\n",
      "Requirement already satisfied: contourpy>=1.0.1 in /home/sepay/.local/lib/python3.10/site-packages (from matplotlib->treeplot) (1.0.7)\n",
      "Requirement already satisfied: pyparsing>=2.2.1 in /usr/lib/python3/dist-packages (from matplotlib->treeplot) (2.4.7)\n",
      "Requirement already satisfied: cycler>=0.10 in /home/sepay/.local/lib/python3.10/site-packages (from matplotlib->treeplot) (0.11.0)\n",
      "Requirement already satisfied: python-dateutil>=2.7 in /home/sepay/.local/lib/python3.10/site-packages (from matplotlib->treeplot) (2.8.2)\n",
      "Requirement already satisfied: fonttools>=4.22.0 in /home/sepay/.local/lib/python3.10/site-packages (from matplotlib->treeplot) (4.38.0)\n",
      "Requirement already satisfied: six>=1.5 in /usr/lib/python3/dist-packages (from python-dateutil>=2.7->matplotlib->treeplot) (1.16.0)\n",
      "Building wheels for collected packages: sklearn, wget\n",
      "  Building wheel for sklearn (setup.py) ... \u001b[?25ldone\n",
      "\u001b[?25h  Created wheel for sklearn: filename=sklearn-0.0.post1-py3-none-any.whl size=2344 sha256=cb3e6627ab9ef8c0bf1fa2951d0bd2c88bfaab466fe5756fe31ebb6ad8f8e091\n",
      "  Stored in directory: /home/sepay/.cache/pip/wheels/c5/88/35/cc8a1e198b27a1d3d9d3f9b30090b9d5531778847835472ec4\n",
      "  Building wheel for wget (setup.py) ... \u001b[?25ldone\n",
      "\u001b[?25h  Created wheel for wget: filename=wget-3.2-py3-none-any.whl size=9675 sha256=6d2461157f21297edc840427641c7211353ac58c82525786ea5f30f547a5dd4f\n",
      "  Stored in directory: /home/sepay/.cache/pip/wheels/8b/f1/7f/5c94f0a7a505ca1c81cd1d9208ae2064675d97582078e6c769\n",
      "Successfully built sklearn wget\n",
      "Installing collected packages: wget, sklearn, funcsigs, graphviz, treeplot\n",
      "Successfully installed funcsigs-1.0.2 graphviz-0.20.1 sklearn-0.0.post1 treeplot-0.1.16 wget-3.2\n"
     ]
    }
   ],
   "source": [
    "!pip install pyspark\n",
    "!pip install findspark  \n",
    "!pip install pandas\n",
    "!pip install -U scikit-learn\n",
    "!pip install -U matplotlib\n",
    "!pip install treeplot"
   ]
  },
  {
   "cell_type": "code",
   "execution_count": 3,
   "id": "4828caa5",
   "metadata": {},
   "outputs": [
    {
     "name": "stdout",
     "output_type": "stream",
     "text": [
      "23/01/20 20:42:35 WARN Utils: Your hostname, sepay-HP resolves to a loopback address: 127.0.1.1; using 192.168.1.31 instead (on interface wlo1)\n",
      "23/01/20 20:42:35 WARN Utils: Set SPARK_LOCAL_IP if you need to bind to another address\n"
     ]
    },
    {
     "name": "stderr",
     "output_type": "stream",
     "text": [
      "Setting default log level to \"WARN\".\n",
      "To adjust logging level use sc.setLogLevel(newLevel). For SparkR, use setLogLevel(newLevel).\n"
     ]
    },
    {
     "name": "stdout",
     "output_type": "stream",
     "text": [
      "23/01/20 20:42:36 WARN NativeCodeLoader: Unable to load native-hadoop library for your platform... using builtin-java classes where applicable\n"
     ]
    },
    {
     "data": {
      "text/html": [
       "\n",
       "            <div>\n",
       "                <p><b>SparkSession - in-memory</b></p>\n",
       "                \n",
       "        <div>\n",
       "            <p><b>SparkContext</b></p>\n",
       "\n",
       "            <p><a href=\"http://sepay-HP.home:4040\">Spark UI</a></p>\n",
       "\n",
       "            <dl>\n",
       "              <dt>Version</dt>\n",
       "                <dd><code>v3.3.1</code></dd>\n",
       "              <dt>Master</dt>\n",
       "                <dd><code>local[*]</code></dd>\n",
       "              <dt>AppName</dt>\n",
       "                <dd><code>Pyspark Tutorial</code></dd>\n",
       "            </dl>\n",
       "        </div>\n",
       "        \n",
       "            </div>\n",
       "        "
      ],
      "text/plain": [
       "<pyspark.sql.session.SparkSession at 0x7f5b2bd18730>"
      ]
     },
     "execution_count": 3,
     "metadata": {},
     "output_type": "execute_result"
    }
   ],
   "source": [
    "from pyspark.sql import SparkSession\n",
    "import findspark\n",
    "from pyspark.ml.tuning import ParamGridBuilder, CrossValidator\n",
    "from pyspark.sql.functions import * \n",
    "from pyspark.sql.types import StringType,BooleanType,DateType, IntegerType  \n",
    "from pyspark.ml.feature import VectorAssembler\n",
    "from pyspark.ml.feature import StandardScaler\n",
    "from pyspark.ml.classification import LogisticRegression\n",
    "from pyspark.ml.evaluation import BinaryClassificationEvaluator\n",
    "import matplotlib.pyplot as plt\n",
    "from pyspark.sql import SQLContext\n",
    "from sklearn.metrics import confusion_matrix\n",
    "\n",
    "\n",
    "findspark.init()\n",
    "\n",
    "spark = SparkSession.builder.appName(\"Pyspark Tutorial\")\\\n",
    "                    .config(\"spark.memory.offHeap.enabled\",\"true\")\\\n",
    "                    .config(\"spark.memory.offHeap.size\",\"10g\")\\\n",
    "                    .getOrCreate()\n",
    "\n",
    "\n",
    "# check spark configuration\n",
    "\n",
    "spark"
   ]
  },
  {
   "cell_type": "code",
   "execution_count": 4,
   "id": "c6f8e230",
   "metadata": {},
   "outputs": [
    {
     "name": "stdout",
     "output_type": "stream",
     "text": [
      "  % Total    % Received % Xferd  Average Speed   Time    Time     Time  Current\n",
      "                                 Dload  Upload   Total   Spent    Left  Speed\n",
      "100  257k  100  257k    0     0  1391k      0 --:--:-- --:--:-- --:--:-- 1399k\n"
     ]
    }
   ],
   "source": [
    "!curl https://raw.githubusercontent.com/Sepay/Programming/main/obesity.csv >> obesity.csv\n",
    "    \n",
    "df = spark.read.csv('obesity.csv',header=True,sep=\",\")"
   ]
  },
  {
   "cell_type": "code",
   "execution_count": 5,
   "id": "214d12f8",
   "metadata": {},
   "outputs": [],
   "source": [
    "df = df.withColumnRenamed('family_history_with_overweight', 'FH')"
   ]
  },
  {
   "cell_type": "code",
   "execution_count": 394,
   "id": "366517a6",
   "metadata": {},
   "outputs": [
    {
     "name": "stdout",
     "output_type": "stream",
     "text": [
      "+------+---+------+------+---+----+----+---+---------+-----+----+---+---+---+----------+---------------------+-------------------+\n",
      "|Gender|Age|Height|Weight|FH |FAVC|FCVC|NCP|CAEC     |SMOKE|CH2O|SCC|FAF|TUE|CALC      |MTRANS               |NObeyesdad         |\n",
      "+------+---+------+------+---+----+----+---+---------+-----+----+---+---+---+----------+---------------------+-------------------+\n",
      "|Female|21 |1.62  |64    |yes|no  |2   |3  |Sometimes|no   |2   |no |0  |1  |no        |Public_Transportation|Normal_Weight      |\n",
      "|Female|21 |1.52  |56    |yes|no  |3   |3  |Sometimes|yes  |3   |yes|3  |0  |Sometimes |Public_Transportation|Normal_Weight      |\n",
      "|Male  |23 |1.8   |77    |yes|no  |2   |3  |Sometimes|no   |2   |no |2  |1  |Frequently|Public_Transportation|Normal_Weight      |\n",
      "|Male  |27 |1.8   |87    |no |no  |3   |3  |Sometimes|no   |2   |no |2  |0  |Frequently|Walking              |Overweight_Level_I |\n",
      "|Male  |22 |1.78  |89.8  |no |no  |2   |1  |Sometimes|no   |2   |no |0  |0  |Sometimes |Public_Transportation|Overweight_Level_II|\n",
      "+------+---+------+------+---+----+----+---+---------+-----+----+---+---+---+----------+---------------------+-------------------+\n",
      "only showing top 5 rows\n",
      "\n"
     ]
    }
   ],
   "source": [
    "df.show(5,0)"
   ]
  },
  {
   "cell_type": "code",
   "execution_count": 395,
   "id": "fc973d82",
   "metadata": {},
   "outputs": [
    {
     "data": {
      "text/plain": [
       "50687"
      ]
     },
     "execution_count": 395,
     "metadata": {},
     "output_type": "execute_result"
    }
   ],
   "source": [
    "df.count()"
   ]
  },
  {
   "cell_type": "code",
   "execution_count": 396,
   "id": "69835111",
   "metadata": {},
   "outputs": [],
   "source": [
    "df= df.drop('TUE')"
   ]
  },
  {
   "cell_type": "code",
   "execution_count": 397,
   "id": "fa01306d",
   "metadata": {},
   "outputs": [
    {
     "name": "stdout",
     "output_type": "stream",
     "text": [
      "+------+---+------+------+---+----+----+---+----------+-----+----+---+---+----------+--------------------+-------------------+\n",
      "|Gender|Age|Height|Weight| FH|FAVC|FCVC|NCP|      CAEC|SMOKE|CH2O|SCC|FAF|      CALC|              MTRANS|         NObeyesdad|\n",
      "+------+---+------+------+---+----+----+---+----------+-----+----+---+---+----------+--------------------+-------------------+\n",
      "|Female| 21|  1.62|    64|yes|  no|   2|  3| Sometimes|   no|   2| no|  0|        no|Public_Transporta...|      Normal_Weight|\n",
      "|Female| 21|  1.52|    56|yes|  no|   3|  3| Sometimes|  yes|   3|yes|  3| Sometimes|Public_Transporta...|      Normal_Weight|\n",
      "|  Male| 23|   1.8|    77|yes|  no|   2|  3| Sometimes|   no|   2| no|  2|Frequently|Public_Transporta...|      Normal_Weight|\n",
      "|  Male| 27|   1.8|    87| no|  no|   3|  3| Sometimes|   no|   2| no|  2|Frequently|             Walking| Overweight_Level_I|\n",
      "|  Male| 22|  1.78|  89.8| no|  no|   2|  1| Sometimes|   no|   2| no|  0| Sometimes|Public_Transporta...|Overweight_Level_II|\n",
      "|  Male| 29|  1.62|    53| no| yes|   2|  3| Sometimes|   no|   2| no|  0| Sometimes|          Automobile|      Normal_Weight|\n",
      "|Female| 23|   1.5|    55|yes| yes|   3|  3| Sometimes|   no|   2| no|  1| Sometimes|           Motorbike|      Normal_Weight|\n",
      "|  Male| 22|  1.64|    53| no|  no|   2|  3| Sometimes|   no|   2| no|  3| Sometimes|Public_Transporta...|      Normal_Weight|\n",
      "|  Male| 24|  1.78|    64|yes| yes|   3|  3| Sometimes|   no|   2| no|  1|Frequently|Public_Transporta...|      Normal_Weight|\n",
      "|  Male| 22|  1.72|    68|yes| yes|   2|  3| Sometimes|   no|   2| no|  1|        no|Public_Transporta...|      Normal_Weight|\n",
      "|  Male| 26|  1.85|   105|yes| yes|   3|  3|Frequently|   no|   3| no|  2| Sometimes|Public_Transporta...|     Obesity_Type_I|\n",
      "|Female| 21|  1.72|    80|yes| yes|   2|  3|Frequently|   no|   2|yes|  2| Sometimes|Public_Transporta...|Overweight_Level_II|\n",
      "|  Male| 22|  1.65|    56| no|  no|   3|  3| Sometimes|   no|   3| no|  2| Sometimes|Public_Transporta...|      Normal_Weight|\n",
      "|  Male| 41|   1.8|    99| no| yes|   2|  3| Sometimes|   no|   2| no|  2|Frequently|          Automobile|     Obesity_Type_I|\n",
      "|  Male| 23|  1.77|    60|yes| yes|   3|  1| Sometimes|   no|   1| no|  1| Sometimes|Public_Transporta...|      Normal_Weight|\n",
      "|Female| 22|   1.7|    66|yes|  no|   3|  3|    Always|   no|   2|yes|  2| Sometimes|Public_Transporta...|      Normal_Weight|\n",
      "|  Male| 27|  1.93|   102|yes| yes|   2|  1| Sometimes|   no|   1| no|  1| Sometimes|Public_Transporta...|Overweight_Level_II|\n",
      "|Female| 29|  1.53|    78| no| yes|   2|  1| Sometimes|   no|   2| no|  0|        no|          Automobile|     Obesity_Type_I|\n",
      "|Female| 30|  1.71|    82|yes| yes|   3|  4|Frequently|  yes|   1| no|  0|        no|          Automobile|Overweight_Level_II|\n",
      "|Female| 23|  1.65|    70|yes|  no|   2|  1| Sometimes|   no|   2| no|  0| Sometimes|Public_Transporta...| Overweight_Level_I|\n",
      "+------+---+------+------+---+----+----+---+----------+-----+----+---+---+----------+--------------------+-------------------+\n",
      "only showing top 20 rows\n",
      "\n"
     ]
    }
   ],
   "source": [
    "df.show()"
   ]
  },
  {
   "attachments": {},
   "cell_type": "markdown",
   "id": "d42851db",
   "metadata": {},
   "source": [
    "# Variáveis\n",
    "\n",
    "Retirou-se a coluna dos telemoveis \n",
    "\n",
    "# TRATAMENTO DE DADOS\n",
    "\n",
    "Alterou-se as colunas Gender, FH, CAEC, SMOLE, SCC, CALC, MTRANS, OBESITY para inteiros para ser mais facil executar os algoritmos\n"
   ]
  },
  {
   "cell_type": "code",
   "execution_count": 398,
   "id": "629a125c",
   "metadata": {},
   "outputs": [
    {
     "name": "stdout",
     "output_type": "stream",
     "text": [
      "+-------------------+-----+\n",
      "|         NObeyesdad|count|\n",
      "+-------------------+-----+\n",
      "|   Obesity_Type_III| 7776|\n",
      "| Overweight_Level_I| 6960|\n",
      "|    Obesity_Type_II| 7128|\n",
      "|Insufficient_Weight| 6528|\n",
      "|Overweight_Level_II| 6960|\n",
      "|      Normal_Weight| 6888|\n",
      "|         NObeyesdad|   23|\n",
      "|     Obesity_Type_I| 8424|\n",
      "+-------------------+-----+\n",
      "\n"
     ]
    }
   ],
   "source": [
    "df.groupBy('NObeyesdad').count().show()"
   ]
  },
  {
   "cell_type": "code",
   "execution_count": 399,
   "id": "414f8d4d",
   "metadata": {},
   "outputs": [],
   "source": [
    "df = df.withColumn(\"CAEC\", when(col(\"CAEC\")== \"Sometimes\", 0).when(col(\"CAEC\") == \"Frequently\", 1).otherwise(2))\n",
    "df = df.withColumn(\"Gender\", when(col(\"Gender\")== \"Female\", 0).otherwise(1))\n",
    "df = df.withColumn(\"FH\", when(col(\"FH\")== \"yes\", 0).otherwise(1))\n",
    "df = df.withColumn(\"FAVC\", when(col(\"FAVC\")== \"yes\", 0).otherwise(1))\n",
    "df = df.withColumn(\"SMOKE\", when(col(\"SMOKE\")== \"yes\", 0).otherwise(1))\n",
    "df = df.withColumn(\"SCC\", when(col(\"SCC\")== \"yes\", 0).otherwise(1))\n",
    "df = df.withColumn(\"CALC\", when(col(\"CALC\")== \"no\", 0).when(col(\"CALC\") == \"Sometimes\", 1).when(col(\"CALC\")==\"Frequently\", 2).otherwise(3))\n",
    "df = df.withColumn(\"MTRANS\", when(col(\"MTRANS\")== \"Public_Transportation\", 0).when(col(\"MTRANS\") == \"Automobile\", 0).when(col(\"MTRANS\")==\"Motorbike\", 0).otherwise(1))\n",
    "df = df.withColumn(\"NObeyesdad\", when(col(\"NObeyesdad\")== \"Insufficient_Weight\", 0).when(col(\"NObeyesdad\") == \"Normal_Weight\", 0).when(col(\"NObeyesdad\")==\"Overweight_Level_I\", 0).when(col(\"NObeyesdad\")== \"Overweight_Level_II\",0).otherwise(1))"
   ]
  },
  {
   "cell_type": "code",
   "execution_count": 400,
   "id": "890ef891",
   "metadata": {},
   "outputs": [],
   "source": [
    "df = df.withColumnRenamed(\"family_history_with_overweight\",\"Family_HIST\")\n",
    "df = df.withColumnRenamed('FAVC','CALORICFOOD')\n",
    "df=df.withColumnRenamed('Gender','GENDER')\n",
    "df=df.withColumnRenamed('Age','AGE')\n",
    "df=df.withColumnRenamed('Weight','WEIGHT')\n",
    "df=df.withColumnRenamed('Height','HEIGHT')\n",
    "df=df.withColumnRenamed('FCVC','VEGET')\n",
    "df=df.withColumnRenamed('NCP','MEALS')\n",
    "df=df.withColumnRenamed('CAEC','BETWEENMEALS')\n",
    "df=df.withColumnRenamed('CH2O','H20')\n",
    "df=df.withColumnRenamed('SCC','CALORIES')\n",
    "df=df.withColumnRenamed('FAF','PHYSY')\n",
    "df=df.withColumnRenamed('CALC','ALCH')\n",
    "df=df.withColumnRenamed('MTRANS','TRANSPORT')\n",
    "df=df.withColumnRenamed('NObeyesdad','OBESITY')"
   ]
  },
  {
   "cell_type": "code",
   "execution_count": 401,
   "id": "ef64609b",
   "metadata": {},
   "outputs": [
    {
     "name": "stdout",
     "output_type": "stream",
     "text": [
      "+------+---+------+------+---+-----------+-----+-----+------------+-----+---+--------+-----+----+---------+-------+\n",
      "|GENDER|AGE|HEIGHT|WEIGHT| FH|CALORICFOOD|VEGET|MEALS|BETWEENMEALS|SMOKE|H20|CALORIES|PHYSY|ALCH|TRANSPORT|OBESITY|\n",
      "+------+---+------+------+---+-----------+-----+-----+------------+-----+---+--------+-----+----+---------+-------+\n",
      "|     0| 21|  1.62|    64|  0|          1|    2|    3|           0|    1|  2|       1|    0|   0|        0|      0|\n",
      "|     0| 21|  1.52|    56|  0|          1|    3|    3|           0|    0|  3|       0|    3|   1|        0|      0|\n",
      "|     1| 23|   1.8|    77|  0|          1|    2|    3|           0|    1|  2|       1|    2|   2|        0|      0|\n",
      "|     1| 27|   1.8|    87|  1|          1|    3|    3|           0|    1|  2|       1|    2|   2|        1|      0|\n",
      "|     1| 22|  1.78|  89.8|  1|          1|    2|    1|           0|    1|  2|       1|    0|   1|        0|      0|\n",
      "|     1| 29|  1.62|    53|  1|          0|    2|    3|           0|    1|  2|       1|    0|   1|        0|      0|\n",
      "|     0| 23|   1.5|    55|  0|          0|    3|    3|           0|    1|  2|       1|    1|   1|        0|      0|\n",
      "|     1| 22|  1.64|    53|  1|          1|    2|    3|           0|    1|  2|       1|    3|   1|        0|      0|\n",
      "|     1| 24|  1.78|    64|  0|          0|    3|    3|           0|    1|  2|       1|    1|   2|        0|      0|\n",
      "|     1| 22|  1.72|    68|  0|          0|    2|    3|           0|    1|  2|       1|    1|   0|        0|      0|\n",
      "|     1| 26|  1.85|   105|  0|          0|    3|    3|           1|    1|  3|       1|    2|   1|        0|      1|\n",
      "|     0| 21|  1.72|    80|  0|          0|    2|    3|           1|    1|  2|       0|    2|   1|        0|      0|\n",
      "|     1| 22|  1.65|    56|  1|          1|    3|    3|           0|    1|  3|       1|    2|   1|        0|      0|\n",
      "|     1| 41|   1.8|    99|  1|          0|    2|    3|           0|    1|  2|       1|    2|   2|        0|      1|\n",
      "|     1| 23|  1.77|    60|  0|          0|    3|    1|           0|    1|  1|       1|    1|   1|        0|      0|\n",
      "|     0| 22|   1.7|    66|  0|          1|    3|    3|           2|    1|  2|       0|    2|   1|        0|      0|\n",
      "|     1| 27|  1.93|   102|  0|          0|    2|    1|           0|    1|  1|       1|    1|   1|        0|      0|\n",
      "|     0| 29|  1.53|    78|  1|          0|    2|    1|           0|    1|  2|       1|    0|   0|        0|      1|\n",
      "|     0| 30|  1.71|    82|  0|          0|    3|    4|           1|    0|  1|       1|    0|   0|        0|      0|\n",
      "|     0| 23|  1.65|    70|  0|          1|    2|    1|           0|    1|  2|       1|    0|   1|        0|      0|\n",
      "+------+---+------+------+---+-----------+-----+-----+------------+-----+---+--------+-----+----+---------+-------+\n",
      "only showing top 20 rows\n",
      "\n"
     ]
    }
   ],
   "source": [
    "df.show()"
   ]
  },
  {
   "attachments": {},
   "cell_type": "markdown",
   "id": "cecfb284",
   "metadata": {},
   "source": [
    "Converter tudo para int"
   ]
  },
  {
   "cell_type": "code",
   "execution_count": 402,
   "id": "3f83e3a6",
   "metadata": {},
   "outputs": [
    {
     "name": "stdout",
     "output_type": "stream",
     "text": [
      "root\n",
      " |-- GENDER: integer (nullable = false)\n",
      " |-- AGE: string (nullable = true)\n",
      " |-- HEIGHT: string (nullable = true)\n",
      " |-- WEIGHT: string (nullable = true)\n",
      " |-- FH: integer (nullable = false)\n",
      " |-- CALORICFOOD: integer (nullable = false)\n",
      " |-- VEGET: integer (nullable = true)\n",
      " |-- MEALS: integer (nullable = true)\n",
      " |-- BETWEENMEALS: integer (nullable = false)\n",
      " |-- SMOKE: integer (nullable = false)\n",
      " |-- H20: integer (nullable = true)\n",
      " |-- CALORIES: integer (nullable = false)\n",
      " |-- PHYSY: integer (nullable = true)\n",
      " |-- ALCH: integer (nullable = false)\n",
      " |-- TRANSPORT: integer (nullable = false)\n",
      " |-- OBESITY: integer (nullable = false)\n",
      "\n"
     ]
    }
   ],
   "source": [
    "\n",
    "df = df.withColumn(\"VEGET\",col(\"VEGET\").cast(IntegerType())) \\\n",
    "    .withColumn(\"MEALS\",col(\"MEALS\").cast(IntegerType())) \\\n",
    "    .withColumn(\"H20\",col(\"H20\").cast(IntegerType())) \\\n",
    "    .withColumn(\"PHYSY\",col(\"PHYSY\").cast(IntegerType()))\n",
    "df = df.fillna(0)\n",
    "df.printSchema()"
   ]
  },
  {
   "cell_type": "code",
   "execution_count": 403,
   "id": "f037261b",
   "metadata": {},
   "outputs": [],
   "source": [
    "\n",
    "assemble=VectorAssembler(inputCols=[\n",
    "    'FH','CALORICFOOD', \"SMOKE\", \"VEGET\", \"MEALS\", \n",
    "    \"BETWEENMEALS\", \"H20\", \"CALORIES\", \"PHYSY\", \"ALCH\"\n",
    "], outputCol='features')"
   ]
  },
  {
   "cell_type": "code",
   "execution_count": 404,
   "id": "a0dd6e81",
   "metadata": {},
   "outputs": [],
   "source": [
    "assembled_data=assemble.transform(df)"
   ]
  },
  {
   "cell_type": "code",
   "execution_count": 405,
   "id": "3690e7e6",
   "metadata": {},
   "outputs": [
    {
     "name": "stdout",
     "output_type": "stream",
     "text": [
      "+---------------------------------------------------------------------------------------------------------------------------------+\n",
      "|standardized                                                                                                                     |\n",
      "+---------------------------------------------------------------------------------------------------------------------------------+\n",
      "|[0.0,3.1174139264350265,7.0013829302752075,3.3279192420385355,3.607287568555658,0.0,3.3355685189839885,4.800701126695684,0.0,0.0]|\n",
      "|[0.0,3.1174139264350265,0.0,4.991878863057803,3.607287568555658,0.0,5.003352778475983,0.0,3.6032529914271225,1.9322764849183296] |\n",
      "+---------------------------------------------------------------------------------------------------------------------------------+\n",
      "only showing top 2 rows\n",
      "\n"
     ]
    }
   ],
   "source": [
    "scale=StandardScaler(inputCol='features',outputCol='standardized')\n",
    "scale=scale.fit(assembled_data)\n",
    "scale_output= scale.transform(assembled_data)\n",
    "\n",
    "scale_output.select('standardized').show(2,truncate=False)\n"
   ]
  },
  {
   "cell_type": "code",
   "execution_count": 406,
   "id": "939a134e",
   "metadata": {},
   "outputs": [],
   "source": [
    "finalData = scale_output.select(\"features\", \"OBESITY\")\n",
    "train, test =finalData.randomSplit([0.8,0.2])"
   ]
  },
  {
   "cell_type": "code",
   "execution_count": 407,
   "id": "e6b037c9",
   "metadata": {},
   "outputs": [],
   "source": [
    "\n",
    "lr = LogisticRegression(featuresCol=\"features\" ,labelCol=\"OBESITY\", maxIter=5)\n",
    "lrModel = lr.fit(train)"
   ]
  },
  {
   "cell_type": "code",
   "execution_count": 408,
   "id": "344fab14",
   "metadata": {},
   "outputs": [
    {
     "data": {
      "text/html": [
       "<div>\n",
       "<style scoped>\n",
       "    .dataframe tbody tr th:only-of-type {\n",
       "        vertical-align: middle;\n",
       "    }\n",
       "\n",
       "    .dataframe tbody tr th {\n",
       "        vertical-align: top;\n",
       "    }\n",
       "\n",
       "    .dataframe thead th {\n",
       "        text-align: right;\n",
       "    }\n",
       "</style>\n",
       "<table border=\"1\" class=\"dataframe\">\n",
       "  <thead>\n",
       "    <tr style=\"text-align: right;\">\n",
       "      <th></th>\n",
       "      <th>OBESITY</th>\n",
       "      <th>features</th>\n",
       "      <th>rawPrediction</th>\n",
       "      <th>prediction</th>\n",
       "      <th>probability</th>\n",
       "    </tr>\n",
       "  </thead>\n",
       "  <tbody>\n",
       "    <tr>\n",
       "      <th>0</th>\n",
       "      <td>0</td>\n",
       "      <td>(1.0, 0.0, 1.0, 3.0, 2.0, 0.0, 2.0, 0.0, 0.0, ...</td>\n",
       "      <td>[4.3040995446584525, -4.3040995446584525]</td>\n",
       "      <td>0.0</td>\n",
       "      <td>[0.9866671198870884, 0.01333288011291156]</td>\n",
       "    </tr>\n",
       "    <tr>\n",
       "      <th>1</th>\n",
       "      <td>0</td>\n",
       "      <td>(1.0, 0.0, 1.0, 3.0, 2.0, 0.0, 2.0, 0.0, 0.0, ...</td>\n",
       "      <td>[4.3040995446584525, -4.3040995446584525]</td>\n",
       "      <td>0.0</td>\n",
       "      <td>[0.9866671198870884, 0.01333288011291156]</td>\n",
       "    </tr>\n",
       "    <tr>\n",
       "      <th>2</th>\n",
       "      <td>0</td>\n",
       "      <td>(1.0, 0.0, 1.0, 3.0, 2.0, 0.0, 2.0, 0.0, 0.0, ...</td>\n",
       "      <td>[4.3040995446584525, -4.3040995446584525]</td>\n",
       "      <td>0.0</td>\n",
       "      <td>[0.9866671198870884, 0.01333288011291156]</td>\n",
       "    </tr>\n",
       "    <tr>\n",
       "      <th>3</th>\n",
       "      <td>0</td>\n",
       "      <td>(1.0, 0.0, 1.0, 3.0, 2.0, 0.0, 2.0, 0.0, 0.0, ...</td>\n",
       "      <td>[4.3040995446584525, -4.3040995446584525]</td>\n",
       "      <td>0.0</td>\n",
       "      <td>[0.9866671198870884, 0.01333288011291156]</td>\n",
       "    </tr>\n",
       "    <tr>\n",
       "      <th>4</th>\n",
       "      <td>1</td>\n",
       "      <td>(0.0, 1.0, 0.0, 2.0, 3.0, 0.0, 3.0, 1.0, 0.0, ...</td>\n",
       "      <td>[0.48970737826501254, -0.48970737826501254]</td>\n",
       "      <td>0.0</td>\n",
       "      <td>[0.6200374957179643, 0.3799625042820357]</td>\n",
       "    </tr>\n",
       "  </tbody>\n",
       "</table>\n",
       "</div>"
      ],
      "text/plain": [
       "   OBESITY                                           features  \\\n",
       "0        0  (1.0, 0.0, 1.0, 3.0, 2.0, 0.0, 2.0, 0.0, 0.0, ...   \n",
       "1        0  (1.0, 0.0, 1.0, 3.0, 2.0, 0.0, 2.0, 0.0, 0.0, ...   \n",
       "2        0  (1.0, 0.0, 1.0, 3.0, 2.0, 0.0, 2.0, 0.0, 0.0, ...   \n",
       "3        0  (1.0, 0.0, 1.0, 3.0, 2.0, 0.0, 2.0, 0.0, 0.0, ...   \n",
       "4        1  (0.0, 1.0, 0.0, 2.0, 3.0, 0.0, 3.0, 1.0, 0.0, ...   \n",
       "\n",
       "                                 rawPrediction  prediction  \\\n",
       "0    [4.3040995446584525, -4.3040995446584525]         0.0   \n",
       "1    [4.3040995446584525, -4.3040995446584525]         0.0   \n",
       "2    [4.3040995446584525, -4.3040995446584525]         0.0   \n",
       "3    [4.3040995446584525, -4.3040995446584525]         0.0   \n",
       "4  [0.48970737826501254, -0.48970737826501254]         0.0   \n",
       "\n",
       "                                 probability  \n",
       "0  [0.9866671198870884, 0.01333288011291156]  \n",
       "1  [0.9866671198870884, 0.01333288011291156]  \n",
       "2  [0.9866671198870884, 0.01333288011291156]  \n",
       "3  [0.9866671198870884, 0.01333288011291156]  \n",
       "4   [0.6200374957179643, 0.3799625042820357]  "
      ]
     },
     "execution_count": 408,
     "metadata": {},
     "output_type": "execute_result"
    }
   ],
   "source": [
    "predictions = lrModel.transform(test)\n",
    "predictions.select(\"OBESITY\", \"features\", \"rawPrediction\", \"prediction\", \"probability\").toPandas().head(5)"
   ]
  },
  {
   "cell_type": "code",
   "execution_count": 409,
   "id": "38ed180a",
   "metadata": {},
   "outputs": [
    {
     "name": "stdout",
     "output_type": "stream",
     "text": [
      "0.7682251814638306\n"
     ]
    }
   ],
   "source": [
    "\n",
    "\n",
    "eval = BinaryClassificationEvaluator(rawPredictionCol = \"prediction\", labelCol = \"OBESITY\")\n",
    "auc = eval.evaluate(predictions)\n",
    "print(auc)"
   ]
  },
  {
   "cell_type": "code",
   "execution_count": 410,
   "id": "66073619",
   "metadata": {},
   "outputs": [
    {
     "data": {
      "image/png": "[encoded data removed]",
      "text/plain": [
       "<Figure size 640x480 with 2 Axes>"
      ]
     },
     "metadata": {},
     "output_type": "display_data"
    }
   ],
   "source": [
    "from sklearn import metrics\n",
    "y_true = predictions.select(\"OBESITY\")\n",
    "y_true = y_true.toPandas()\n",
    "\n",
    "y_pred = predictions.select(\"prediction\")\n",
    "y_pred = y_pred.toPandas()\n",
    "\n",
    "cnfMatrix = confusion_matrix(y_true, y_pred)\n",
    "\n",
    "\n",
    "cm_display = metrics.ConfusionMatrixDisplay(confusion_matrix = cnfMatrix, display_labels = [False, True])\n",
    "cm_display.plot()\n",
    "plt.show() "
   ]
  },
  {
   "cell_type": "code",
   "execution_count": 411,
   "id": "4b7cb042",
   "metadata": {},
   "outputs": [
    {
     "data": {
      "text/plain": [
       "0.7610878253241057"
      ]
     },
     "execution_count": 411,
     "metadata": {},
     "output_type": "execute_result"
    }
   ],
   "source": [
    "FP = predictions.where(predictions[\"OBESITY\"] == predictions[\"prediction\"]).count()\n",
    "accuracy = FP /float(predictions.count())\n",
    "accuracy"
   ]
  },
  {
   "cell_type": "code",
   "execution_count": 412,
   "id": "ca1d8064",
   "metadata": {},
   "outputs": [
    {
     "data": {
      "text/plain": [
       "Text(0, 0.5, 'True Positive Rate')"
      ]
     },
     "execution_count": 412,
     "metadata": {},
     "output_type": "execute_result"
    },
    {
     "data": {
      "image/png": "[encoded data removed]",
      "text/plain": [
       "<Figure size 640x480 with 1 Axes>"
      ]
     },
     "metadata": {},
     "output_type": "display_data"
    }
   ],
   "source": [
    "from pyspark.conf import SparkConf\n",
    "\n",
    "fpr, tpr, thresholds = roc_curve(y_true, y_pred)\n",
    "plt.plot(fpr, tpr)\n",
    "plt.xlabel('False Positive Rate')\n",
    "plt.ylabel('True Positive Rate')\n",
    "\n"
   ]
  },
  {
   "cell_type": "code",
   "execution_count": 413,
   "id": "c0ad5841",
   "metadata": {},
   "outputs": [],
   "source": [
    "paramGrid = ParamGridBuilder()\\\n",
    "            .addGrid(lr.regParam, [0.01,0.5,2.0])\\\n",
    "            .addGrid(lr.elasticNetParam, [0.0,0.5,1.0])\\\n",
    "            .addGrid(lr.maxIter, [1,5,10])\\\n",
    "            .build()\n"
   ]
  },
  {
   "cell_type": "code",
   "execution_count": 414,
   "id": "eb4d3f7a",
   "metadata": {},
   "outputs": [],
   "source": [
    "cv = CrossValidator(estimator=lr, estimatorParamMaps=paramGrid,\n",
    "                    evaluator=eval, numFolds=5 , parallelism=4)"
   ]
  },
  {
   "cell_type": "code",
   "execution_count": 415,
   "id": "7722de57",
   "metadata": {},
   "outputs": [],
   "source": [
    "cvModel = cv.fit(train)"
   ]
  },
  {
   "cell_type": "code",
   "execution_count": 416,
   "id": "42fbf725",
   "metadata": {},
   "outputs": [
    {
     "data": {
      "text/plain": [
       "0.7742903650687145"
      ]
     },
     "execution_count": 416,
     "metadata": {},
     "output_type": "execute_result"
    }
   ],
   "source": [
    "predictions_cv = cvModel.transform(test)\n",
    "eval.evaluate(predictions_cv)"
   ]
  },
  {
   "cell_type": "code",
   "execution_count": 417,
   "id": "af9f66a4",
   "metadata": {},
   "outputs": [
    {
     "data": {
      "text/plain": [
       "0.7668388731845209"
      ]
     },
     "execution_count": 417,
     "metadata": {},
     "output_type": "execute_result"
    }
   ],
   "source": [
    "FP = predictions_cv.where(predictions_cv[\"OBESITY\"] == predictions_cv[\"prediction\"]).count()\n",
    "accuracy = FP /float(predictions_cv.count())\n",
    "accuracy"
   ]
  },
  {
   "attachments": {},
   "cell_type": "markdown",
   "id": "52ed74c5",
   "metadata": {},
   "source": [
    "### Decision trees"
   ]
  },
  {
   "cell_type": "code",
   "execution_count": 16,
   "id": "640b0576",
   "metadata": {},
   "outputs": [
    {
     "name": "stdout",
     "output_type": "stream",
     "text": [
      "  % Total    % Received % Xferd  Average Speed   Time    Time     Time  Current\n",
      "                                 Dload  Upload   Total   Spent    Left  Speed\n",
      "100  257k  100  257k    0     0  1714k      0 --:--:-- --:--:-- --:--:-- 1705k\n",
      "+------+---+------+------+------------------------------+----+----+---+----------+-----+----+---+---+---+----------+--------------------+-------------------+\n",
      "|Gender|Age|Height|Weight|family_history_with_overweight|FAVC|FCVC|NCP|      CAEC|SMOKE|CH2O|SCC|FAF|TUE|      CALC|              MTRANS|         NObeyesdad|\n",
      "+------+---+------+------+------------------------------+----+----+---+----------+-----+----+---+---+---+----------+--------------------+-------------------+\n",
      "|Female| 21|  1.62|    64|                           yes|  no|   2|  3| Sometimes|   no|   2| no|  0|  1|        no|Public_Transporta...|      Normal_Weight|\n",
      "|Female| 21|  1.52|    56|                           yes|  no|   3|  3| Sometimes|  yes|   3|yes|  3|  0| Sometimes|Public_Transporta...|      Normal_Weight|\n",
      "|  Male| 23|   1.8|    77|                           yes|  no|   2|  3| Sometimes|   no|   2| no|  2|  1|Frequently|Public_Transporta...|      Normal_Weight|\n",
      "|  Male| 27|   1.8|    87|                            no|  no|   3|  3| Sometimes|   no|   2| no|  2|  0|Frequently|             Walking| Overweight_Level_I|\n",
      "|  Male| 22|  1.78|  89.8|                            no|  no|   2|  1| Sometimes|   no|   2| no|  0|  0| Sometimes|Public_Transporta...|Overweight_Level_II|\n",
      "|  Male| 29|  1.62|    53|                            no| yes|   2|  3| Sometimes|   no|   2| no|  0|  0| Sometimes|          Automobile|      Normal_Weight|\n",
      "|Female| 23|   1.5|    55|                           yes| yes|   3|  3| Sometimes|   no|   2| no|  1|  0| Sometimes|           Motorbike|      Normal_Weight|\n",
      "|  Male| 22|  1.64|    53|                            no|  no|   2|  3| Sometimes|   no|   2| no|  3|  0| Sometimes|Public_Transporta...|      Normal_Weight|\n",
      "|  Male| 24|  1.78|    64|                           yes| yes|   3|  3| Sometimes|   no|   2| no|  1|  1|Frequently|Public_Transporta...|      Normal_Weight|\n",
      "|  Male| 22|  1.72|    68|                           yes| yes|   2|  3| Sometimes|   no|   2| no|  1|  1|        no|Public_Transporta...|      Normal_Weight|\n",
      "|  Male| 26|  1.85|   105|                           yes| yes|   3|  3|Frequently|   no|   3| no|  2|  2| Sometimes|Public_Transporta...|     Obesity_Type_I|\n",
      "|Female| 21|  1.72|    80|                           yes| yes|   2|  3|Frequently|   no|   2|yes|  2|  1| Sometimes|Public_Transporta...|Overweight_Level_II|\n",
      "|  Male| 22|  1.65|    56|                            no|  no|   3|  3| Sometimes|   no|   3| no|  2|  0| Sometimes|Public_Transporta...|      Normal_Weight|\n",
      "|  Male| 41|   1.8|    99|                            no| yes|   2|  3| Sometimes|   no|   2| no|  2|  1|Frequently|          Automobile|     Obesity_Type_I|\n",
      "|  Male| 23|  1.77|    60|                           yes| yes|   3|  1| Sometimes|   no|   1| no|  1|  1| Sometimes|Public_Transporta...|      Normal_Weight|\n",
      "|Female| 22|   1.7|    66|                           yes|  no|   3|  3|    Always|   no|   2|yes|  2|  1| Sometimes|Public_Transporta...|      Normal_Weight|\n",
      "|  Male| 27|  1.93|   102|                           yes| yes|   2|  1| Sometimes|   no|   1| no|  1|  0| Sometimes|Public_Transporta...|Overweight_Level_II|\n",
      "|Female| 29|  1.53|    78|                            no| yes|   2|  1| Sometimes|   no|   2| no|  0|  0|        no|          Automobile|     Obesity_Type_I|\n",
      "|Female| 30|  1.71|    82|                           yes| yes|   3|  4|Frequently|  yes|   1| no|  0|  0|        no|          Automobile|Overweight_Level_II|\n",
      "|Female| 23|  1.65|    70|                           yes|  no|   2|  1| Sometimes|   no|   2| no|  0|  0| Sometimes|Public_Transporta...| Overweight_Level_I|\n",
      "+------+---+------+------+------------------------------+----+----+---+----------+-----+----+---+---+---+----------+--------------------+-------------------+\n",
      "only showing top 20 rows\n",
      "\n"
     ]
    }
   ],
   "source": [
    "!curl https://raw.githubusercontent.com/Sepay/Programming/main/obesity.csv >> obesity.csv\n",
    "    \n",
    "df_knn = spark.read.csv('obesity.csv',header=True,sep=\",\")\n",
    "df_knn.show()"
   ]
  },
  {
   "cell_type": "code",
   "execution_count": 19,
   "id": "d569aa48",
   "metadata": {},
   "outputs": [],
   "source": [
    "df_knn = df_knn.drop('TUE')\n",
    "df_knn = df_knn.withColumn(\"CAEC\", when(col(\"CAEC\")== \"Sometimes\", 0).when(col(\"CAEC\") == \"Frequently\", 1).otherwise(2))\n",
    "df_knn = df_knn.withColumn(\"Gender\", when(col(\"Gender\")== \"Female\", 0).otherwise(1))\n",
    "df_knn = df_knn.withColumn(\"family_history_with_overweight\", when(col(\"family_history_with_overweight\")== \"yes\", 0).otherwise(1))\n",
    "df_knn = df_knn.withColumn(\"FAVC\", when(col(\"FAVC\")== \"yes\", 0).otherwise(1))\n",
    "df_knn = df_knn.withColumn(\"SMOKE\", when(col(\"SMOKE\")== \"yes\", 0).otherwise(1))\n",
    "df_knn = df_knn.withColumn(\"SCC\", when(col(\"SCC\")== \"yes\", 0).otherwise(1))\n",
    "df_knn = df_knn.withColumn(\"CALC\", when(col(\"CALC\")== \"no\", 0).when(col(\"CALC\") == \"Sometimes\", 1).when(col(\"CALC\")==\"Frequently\", 2).otherwise(3))\n",
    "df_knn = df_knn.withColumn(\"MTRANS\", when(col(\"MTRANS\")== \"Public_Transportation\", 0).when(col(\"MTRANS\") == \"Automobile\", 0).when(col(\"MTRANS\")==\"Motorbike\", 0).otherwise(1))\n",
    "df_knn = df_knn.withColumn(\"NObeyesdad\", when(col(\"NObeyesdad\")== \"Insufficient_Weight\", 1).when(col(\"NObeyesdad\") == \"Normal_Weight\", 2).when(col(\"NObeyesdad\")==\"Overweight_Level_I\", 3).when(col(\"NObeyesdad\")== \"Overweight_Level_II\",4).when(col(\"NObeyesdad\")==\"Obesity_Type_I\", 5).otherwise(6))"
   ]
  },
  {
   "cell_type": "code",
   "execution_count": 20,
   "id": "0ba73ac8",
   "metadata": {},
   "outputs": [],
   "source": [
    "df_knn=df_knn.withColumnRenamed(\"family_history_with_overweight\",\"FH\")\n",
    "df_knn=df_knn.withColumnRenamed('FAVC','CALORICFOOD')\n",
    "df_knn=df_knn.withColumnRenamed('Gender','GENDER')\n",
    "df_knn=df_knn.withColumnRenamed('Age','AGE')\n",
    "df_knn=df_knn.withColumnRenamed('Weight','WEIGHT')\n",
    "df_knn=df_knn.withColumnRenamed('Height','HEIGHT')\n",
    "df_knn=df_knn.withColumnRenamed('FCVC','VEGET')\n",
    "df_knn=df_knn.withColumnRenamed('NCP','MEALS')\n",
    "df_knn=df_knn.withColumnRenamed('CAEC','BETWEENMEALS')\n",
    "df_knn=df_knn.withColumnRenamed('CH2O','H20')\n",
    "df_knn=df_knn.withColumnRenamed('SCC','CALORIES')\n",
    "df_knn=df_knn.withColumnRenamed('FAF','PHYSY')\n",
    "df_knn=df_knn.withColumnRenamed('CALC','ALCH')\n",
    "df_knn=df_knn.withColumnRenamed('MTRANS','TRANSPORT')\n",
    "df_knn=df_knn.withColumnRenamed('NObeyesdad','OBESITY')"
   ]
  },
  {
   "cell_type": "code",
   "execution_count": 50,
   "id": "c336a7da",
   "metadata": {},
   "outputs": [
    {
     "name": "stdout",
     "output_type": "stream",
     "text": [
      "root\n",
      " |-- GENDER: integer (nullable = false)\n",
      " |-- AGE: integer (nullable = true)\n",
      " |-- HEIGHT: string (nullable = true)\n",
      " |-- WEIGHT: integer (nullable = true)\n",
      " |-- FH: integer (nullable = false)\n",
      " |-- CALORICFOOD: integer (nullable = false)\n",
      " |-- VEGET: integer (nullable = true)\n",
      " |-- MEALS: integer (nullable = true)\n",
      " |-- BETWEENMEALS: integer (nullable = false)\n",
      " |-- SMOKE: integer (nullable = false)\n",
      " |-- H20: integer (nullable = true)\n",
      " |-- CALORIES: integer (nullable = false)\n",
      " |-- PHYSY: integer (nullable = true)\n",
      " |-- ALCH: integer (nullable = false)\n",
      " |-- TRANSPORT: integer (nullable = false)\n",
      " |-- OBESITY: integer (nullable = false)\n",
      "\n"
     ]
    }
   ],
   "source": [
    "df_knn = df_knn.withColumn(\"VEGET\",col(\"VEGET\").cast(IntegerType())) \\\n",
    "    .withColumn(\"MEALS\",col(\"MEALS\").cast(IntegerType())) \\\n",
    "    .withColumn(\"H20\",col(\"H20\").cast(IntegerType())) \\\n",
    "    .withColumn(\"PHYSY\",col(\"PHYSY\").cast(IntegerType()))\\\n",
    "    .withColumn(\"AGE\",col(\"AGE\").cast(IntegerType()))\\\n",
    "    .withColumn(\"WEIGHT\",col(\"WEIGHT\").cast(IntegerType()))\n",
    "df_knn = df_knn.dropna()\n",
    "df_knn.printSchema()"
   ]
  },
  {
   "cell_type": "code",
   "execution_count": 51,
   "id": "9fa70908",
   "metadata": {},
   "outputs": [],
   "source": [
    "from pyspark.ml.classification import DecisionTreeClassifier\n",
    "from pyspark.ml.evaluation import MulticlassClassificationEvaluator"
   ]
  },
  {
   "cell_type": "code",
   "execution_count": 52,
   "id": "f4817a55",
   "metadata": {},
   "outputs": [],
   "source": [
    "assembleTree=VectorAssembler(inputCols=[\n",
    "    'FH','CALORICFOOD', \"SMOKE\",\n",
    "    \"VEGET\", \"MEALS\", \"BETWEENMEALS\",\n",
    "    \"H20\", \"CALORIES\", \"PHYSY\",\n",
    "    \"ALCH\", \"GENDER\", \"AGE\",\n",
    "    \"WEIGHT\"\n",
    "], outputCol='features')"
   ]
  },
  {
   "cell_type": "code",
   "execution_count": 53,
   "id": "af6473ee",
   "metadata": {},
   "outputs": [],
   "source": [
    "assembledTree_data=assembleTree.transform(df_knn)"
   ]
  },
  {
   "cell_type": "code",
   "execution_count": 54,
   "id": "7efae9a3",
   "metadata": {},
   "outputs": [
    {
     "name": "stdout",
     "output_type": "stream",
     "text": [
      "23/01/20 21:23:13 WARN package: Truncated the string representation of a plan since it was too large. This behavior can be adjusted by setting 'spark.sql.debug.maxToStringFields'.\n",
      "+-----------------------------------------------------------------------------------------------------------------------------------------------------------------------+\n",
      "|standardized                                                                                                                                                           |\n",
      "+-----------------------------------------------------------------------------------------------------------------------------------------------------------------------+\n",
      "|[0.0,3.1220929193250346,6.9998399435208185,3.337450195029862,3.614028981142659,0.0,3.341003336033181,4.799671833031942,0.0,0.0,0.0,3.329516881505676,2.454105973422261]|\n",
      "|[0.0,3.1220929193250346,0.0,5.006175292544793,3.614028981142659,0.0,5.011505004049772,0.0,3.603077880219743,1.940315268461313,0.0,3.329516881505676,2.147342726744478] |\n",
      "+-----------------------------------------------------------------------------------------------------------------------------------------------------------------------+\n",
      "only showing top 2 rows\n",
      "\n"
     ]
    }
   ],
   "source": [
    "scale=StandardScaler(inputCol='features',outputCol='standardized')\n",
    "scale=scale.fit(assembledTree_data)\n",
    "scale_outputTree= scale.transform(assembledTree_data)\n",
    "\n",
    "scale_outputTree.select('standardized').show(2,truncate=False)\n",
    "\n",
    "finalDataTree = scale_outputTree.select(\"features\", \"OBESITY\")\n",
    "trainT, testT =finalDataTree.randomSplit([0.8,0.2])"
   ]
  },
  {
   "cell_type": "code",
   "execution_count": 93,
   "id": "53616c9b",
   "metadata": {},
   "outputs": [
    {
     "name": "stdout",
     "output_type": "stream",
     "text": [
      "+--------------------+-------+--------------------+--------------------+----------+\n",
      "|            features|OBESITY|       rawPrediction|         probability|prediction|\n",
      "+--------------------+-------+--------------------+--------------------+----------+\n",
      "|[0.0,0.0,0.0,1.0,...|      6|[0.0,0.0,0.0,0.0,...|[0.0,0.0,0.0,0.0,...|       6.0|\n",
      "|[0.0,0.0,0.0,1.0,...|      6|[0.0,0.0,0.0,0.0,...|[0.0,0.0,0.0,0.0,...|       6.0|\n",
      "|[0.0,0.0,0.0,2.0,...|      4|[0.0,0.0,1369.0,3...|[0.0,0.0,0.281571...|       3.0|\n",
      "|[0.0,0.0,0.0,2.0,...|      4|[0.0,0.0,1369.0,3...|[0.0,0.0,0.281571...|       3.0|\n",
      "|[0.0,0.0,0.0,2.0,...|      4|[0.0,0.0,1369.0,3...|[0.0,0.0,0.281571...|       3.0|\n",
      "|[0.0,0.0,0.0,2.0,...|      3|[0.0,0.0,1369.0,3...|[0.0,0.0,0.281571...|       3.0|\n",
      "|[0.0,0.0,0.0,2.0,...|      5|[0.0,0.0,0.0,0.0,...|[0.0,0.0,0.0,0.0,...|       5.0|\n",
      "|[0.0,0.0,0.0,2.0,...|      5|[0.0,0.0,0.0,0.0,...|[0.0,0.0,0.0,0.0,...|       5.0|\n",
      "|[0.0,0.0,0.0,2.0,...|      5|[0.0,0.0,0.0,0.0,...|[0.0,0.0,0.0,0.0,...|       5.0|\n",
      "|[0.0,0.0,0.0,2.0,...|      5|[0.0,0.0,0.0,0.0,...|[0.0,0.0,0.0,0.0,...|       5.0|\n",
      "|[0.0,0.0,0.0,2.0,...|      5|[0.0,0.0,170.0,12...|[0.0,0.0,0.020044...|       4.0|\n",
      "|[0.0,0.0,0.0,2.0,...|      5|[0.0,0.0,170.0,12...|[0.0,0.0,0.020044...|       4.0|\n",
      "|[0.0,0.0,0.0,2.0,...|      5|[0.0,0.0,170.0,12...|[0.0,0.0,0.020044...|       4.0|\n",
      "|[0.0,0.0,0.0,2.0,...|      5|[0.0,0.0,170.0,12...|[0.0,0.0,0.020044...|       4.0|\n",
      "|[0.0,0.0,0.0,2.0,...|      5|[0.0,0.0,170.0,12...|[0.0,0.0,0.020044...|       4.0|\n",
      "|[0.0,0.0,0.0,2.0,...|      6|[0.0,0.0,0.0,0.0,...|[0.0,0.0,0.0,0.0,...|       6.0|\n",
      "|[0.0,0.0,0.0,2.0,...|      6|[0.0,0.0,0.0,0.0,...|[0.0,0.0,0.0,0.0,...|       6.0|\n",
      "|[0.0,0.0,0.0,2.0,...|      6|[0.0,0.0,0.0,0.0,...|[0.0,0.0,0.0,0.0,...|       6.0|\n",
      "|[0.0,0.0,0.0,2.0,...|      6|[0.0,0.0,0.0,0.0,...|[0.0,0.0,0.0,0.0,...|       6.0|\n",
      "|[0.0,0.0,0.0,2.0,...|      6|[0.0,0.0,0.0,0.0,...|[0.0,0.0,0.0,0.0,...|       6.0|\n",
      "+--------------------+-------+--------------------+--------------------+----------+\n",
      "only showing top 20 rows\n",
      "\n"
     ]
    }
   ],
   "source": [
    "deciTree = DecisionTreeClassifier(featuresCol=\"features\", labelCol=\"OBESITY\")\n",
    "deciTree = deciTree.fit(trainT)\n",
    "\n",
    "predTree = deciTree.transform(testT)\n",
    "predTree.show()"
   ]
  },
  {
   "cell_type": "code",
   "execution_count": 80,
   "id": "24f026aa",
   "metadata": {},
   "outputs": [
    {
     "name": "stdout",
     "output_type": "stream",
     "text": [
      "0.7413719647563415\n"
     ]
    }
   ],
   "source": [
    "evaluator=MulticlassClassificationEvaluator(predictionCol=\"prediction\", labelCol=\"OBESITY\")\n",
    "acc = evaluator.evaluate(predTree) \n",
    "print(acc)"
   ]
  },
  {
   "cell_type": "code",
   "execution_count": 81,
   "id": "b8f81f27",
   "metadata": {},
   "outputs": [],
   "source": [
    "y_pred=predTree.select(\"prediction\").collect()\n",
    "y_orig=predTree.select(\"OBESITY\").collect()"
   ]
  },
  {
   "cell_type": "code",
   "execution_count": 82,
   "id": "013042e3",
   "metadata": {},
   "outputs": [
    {
     "name": "stdout",
     "output_type": "stream",
     "text": [
      "Confusion Matrix:\n",
      "[[1364  275    0    0    0    0]\n",
      " [ 241  834  387  158    0    0]\n",
      " [   0  150 1199  403    0    0]\n",
      " [   0   47  196 1395   12   34]\n",
      " [   0    0  102  968  808  119]\n",
      " [   0    0    0    0   20 3516]]\n"
     ]
    }
   ],
   "source": [
    "\n",
    "cmTree = confusion_matrix(y_orig, y_pred)\n",
    "print(\"Confusion Matrix:\")\n",
    "print(cmTree)\n"
   ]
  },
  {
   "cell_type": "code",
   "execution_count": null,
   "id": "e08b0340",
   "metadata": {},
   "outputs": [],
   "source": [
    "#Desenhar a matriz"
   ]
  },
  {
   "cell_type": "code",
   "execution_count": null,
   "id": "01968d7b",
   "metadata": {},
   "outputs": [],
   "source": [
    "\n"
   ]
  },
  {
   "cell_type": "code",
   "execution_count": null,
   "id": "bd6de876",
   "metadata": {},
   "outputs": [],
   "source": []
  }
 ],
 "metadata": {
  "kernelspec": {
   "display_name": "Python 3",
   "language": "python",
   "name": "python3"
  },
  "language_info": {
   "codemirror_mode": {
    "name": "ipython",
    "version": 3
   },
   "file_extension": ".py",
   "mimetype": "text/x-python",
   "name": "python",
   "nbconvert_exporter": "python",
   "pygments_lexer": "ipython3",
   "version": "3.10.6"
  },
  "vscode": {
   "interpreter": {
    "hash": "916dbcbb3f70747c44a77c7bcd40155683ae19c65e1c03b4aa3499c5328201f1"
   }
  }
 },
 "nbformat": 4,
 "nbformat_minor": 5
}
