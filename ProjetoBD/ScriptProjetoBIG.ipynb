{
 "cells": [
  {
   "cell_type": "code",
   "execution_count": 214,
   "id": "5bb5d878",
   "metadata": {},
   "outputs": [
    {
     "name": "stdout",
     "output_type": "stream",
     "text": [
      "Defaulting to user installation because normal site-packages is not writeable\n",
      "Requirement already satisfied: pyspark in /home/sepay/.local/lib/python3.10/site-packages (3.3.1)\n",
      "Requirement already satisfied: py4j==0.10.9.5 in /home/sepay/.local/lib/python3.10/site-packages (from pyspark) (0.10.9.5)\n",
      "Defaulting to user installation because normal site-packages is not writeable\n",
      "Requirement already satisfied: findspark in /home/sepay/.local/lib/python3.10/site-packages (2.0.1)\n",
      "Defaulting to user installation because normal site-packages is not writeable\n",
      "Requirement already satisfied: pandas in /home/sepay/.local/lib/python3.10/site-packages (1.5.3)\n",
      "Requirement already satisfied: pytz>=2020.1 in /usr/lib/python3/dist-packages (from pandas) (2022.1)\n",
      "Requirement already satisfied: numpy>=1.21.0 in /home/sepay/.local/lib/python3.10/site-packages (from pandas) (1.24.1)\n",
      "Requirement already satisfied: python-dateutil>=2.8.1 in /home/sepay/.local/lib/python3.10/site-packages (from pandas) (2.8.2)\n",
      "Requirement already satisfied: six>=1.5 in /usr/lib/python3/dist-packages (from python-dateutil>=2.8.1->pandas) (1.16.0)\n"
     ]
    }
   ],
   "source": [
    "!pip install pyspark\n",
    "!pip install findspark  \n",
    "!pip install pandas"
   ]
  },
  {
   "cell_type": "code",
   "execution_count": 215,
   "id": "4828caa5",
   "metadata": {},
   "outputs": [
    {
     "data": {
      "text/html": [
       "\n",
       "            <div>\n",
       "                <p><b>SparkSession - in-memory</b></p>\n",
       "                \n",
       "        <div>\n",
       "            <p><b>SparkContext</b></p>\n",
       "\n",
       "            <p><a href=\"http://sepay-HP.home:4040\">Spark UI</a></p>\n",
       "\n",
       "            <dl>\n",
       "              <dt>Version</dt>\n",
       "                <dd><code>v3.3.1</code></dd>\n",
       "              <dt>Master</dt>\n",
       "                <dd><code>local[*]</code></dd>\n",
       "              <dt>AppName</dt>\n",
       "                <dd><code>Pyspark Tutorial</code></dd>\n",
       "            </dl>\n",
       "        </div>\n",
       "        \n",
       "            </div>\n",
       "        "
      ],
      "text/plain": [
       "<pyspark.sql.session.SparkSession at 0x7eff4d52ee90>"
      ]
     },
     "execution_count": 215,
     "metadata": {},
     "output_type": "execute_result"
    }
   ],
   "source": [
    "from pyspark.sql import SparkSession\n",
    "import findspark\n",
    "from pyspark.ml.tuning import ParamGridBuilder, CrossValidator\n",
    "from pyspark.sql.functions import * \n",
    "from pyspark.sql.types import StringType,BooleanType,DateType, IntegerType  \n",
    "from pyspark.ml.feature import VectorAssembler\n",
    "from pyspark.ml.feature import StandardScaler\n",
    "from pyspark.ml.classification import LogisticRegression\n",
    "from pyspark.ml.evaluation import BinaryClassificationEvaluator\n",
    "\n",
    "\n",
    "\n",
    "findspark.init()\n",
    "\n",
    "spark = SparkSession.builder.appName(\"Pyspark Tutorial\")\\\n",
    "                    .config(\"spark.memory.offHeap.enabled\",\"true\")\\\n",
    "                    .config(\"spark.memory.offHeap.size\",\"10g\")\\\n",
    "                    .getOrCreate()\n",
    "\n",
    "\n",
    "# check spark configuration\n",
    "\n",
    "spark"
   ]
  },
  {
   "cell_type": "code",
   "execution_count": 122,
   "id": "c6f8e230",
   "metadata": {},
   "outputs": [
    {
     "name": "stdout",
     "output_type": "stream",
     "text": [
      "  % Total    % Received % Xferd  Average Speed   Time    Time     Time  Current\n",
      "                                 Dload  Upload   Total   Spent    Left  Speed\n",
      "100  257k  100  257k    0     0   463k      0 --:--:-- --:--:-- --:--:--  464k\n"
     ]
    }
   ],
   "source": [
    "!curl https://raw.githubusercontent.com/Sepay/Programming/main/obesity.csv >> obesity.csv\n",
    "    \n",
    "df = spark.read.csv('obesity.csv',header=True,sep=\",\")"
   ]
  },
  {
   "cell_type": "code",
   "execution_count": 130,
   "id": "214d12f8",
   "metadata": {},
   "outputs": [],
   "source": [
    "df = df.withColumnRenamed('family_history_with_overweight', 'FH')"
   ]
  },
  {
   "cell_type": "code",
   "execution_count": 131,
   "id": "366517a6",
   "metadata": {},
   "outputs": [
    {
     "name": "stdout",
     "output_type": "stream",
     "text": [
      "+------+---+------+------+---+----+----+---+---------+-----+----+---+---+---+----------+---------------------+-------------------+\n",
      "|Gender|Age|Height|Weight|FH |FAVC|FCVC|NCP|CAEC     |SMOKE|CH2O|SCC|FAF|TUE|CALC      |MTRANS               |NObeyesdad         |\n",
      "+------+---+------+------+---+----+----+---+---------+-----+----+---+---+---+----------+---------------------+-------------------+\n",
      "|Female|21 |1.62  |64    |yes|no  |2   |3  |Sometimes|no   |2   |no |0  |1  |no        |Public_Transportation|Normal_Weight      |\n",
      "|Female|21 |1.52  |56    |yes|no  |3   |3  |Sometimes|yes  |3   |yes|3  |0  |Sometimes |Public_Transportation|Normal_Weight      |\n",
      "|Male  |23 |1.8   |77    |yes|no  |2   |3  |Sometimes|no   |2   |no |2  |1  |Frequently|Public_Transportation|Normal_Weight      |\n",
      "|Male  |27 |1.8   |87    |no |no  |3   |3  |Sometimes|no   |2   |no |2  |0  |Frequently|Walking              |Overweight_Level_I |\n",
      "|Male  |22 |1.78  |89.8  |no |no  |2   |1  |Sometimes|no   |2   |no |0  |0  |Sometimes |Public_Transportation|Overweight_Level_II|\n",
      "+------+---+------+------+---+----+----+---+---------+-----+----+---+---+---+----------+---------------------+-------------------+\n",
      "only showing top 5 rows\n",
      "\n"
     ]
    }
   ],
   "source": [
    "df.show(5,0)"
   ]
  },
  {
   "cell_type": "code",
   "execution_count": 132,
   "id": "fc973d82",
   "metadata": {},
   "outputs": [
    {
     "data": {
      "text/plain": [
       "40127"
      ]
     },
     "execution_count": 132,
     "metadata": {},
     "output_type": "execute_result"
    }
   ],
   "source": [
    "df.count()"
   ]
  },
  {
   "cell_type": "code",
   "execution_count": 133,
   "id": "69835111",
   "metadata": {},
   "outputs": [],
   "source": [
    "df= df.drop('TUE')"
   ]
  },
  {
   "cell_type": "code",
   "execution_count": 134,
   "id": "fa01306d",
   "metadata": {},
   "outputs": [
    {
     "name": "stdout",
     "output_type": "stream",
     "text": [
      "+------+---+------+------+---+----+----+---+----------+-----+----+---+---+----------+--------------------+-------------------+\n",
      "|Gender|Age|Height|Weight| FH|FAVC|FCVC|NCP|      CAEC|SMOKE|CH2O|SCC|FAF|      CALC|              MTRANS|         NObeyesdad|\n",
      "+------+---+------+------+---+----+----+---+----------+-----+----+---+---+----------+--------------------+-------------------+\n",
      "|Female| 21|  1.62|    64|yes|  no|   2|  3| Sometimes|   no|   2| no|  0|        no|Public_Transporta...|      Normal_Weight|\n",
      "|Female| 21|  1.52|    56|yes|  no|   3|  3| Sometimes|  yes|   3|yes|  3| Sometimes|Public_Transporta...|      Normal_Weight|\n",
      "|  Male| 23|   1.8|    77|yes|  no|   2|  3| Sometimes|   no|   2| no|  2|Frequently|Public_Transporta...|      Normal_Weight|\n",
      "|  Male| 27|   1.8|    87| no|  no|   3|  3| Sometimes|   no|   2| no|  2|Frequently|             Walking| Overweight_Level_I|\n",
      "|  Male| 22|  1.78|  89.8| no|  no|   2|  1| Sometimes|   no|   2| no|  0| Sometimes|Public_Transporta...|Overweight_Level_II|\n",
      "|  Male| 29|  1.62|    53| no| yes|   2|  3| Sometimes|   no|   2| no|  0| Sometimes|          Automobile|      Normal_Weight|\n",
      "|Female| 23|   1.5|    55|yes| yes|   3|  3| Sometimes|   no|   2| no|  1| Sometimes|           Motorbike|      Normal_Weight|\n",
      "|  Male| 22|  1.64|    53| no|  no|   2|  3| Sometimes|   no|   2| no|  3| Sometimes|Public_Transporta...|      Normal_Weight|\n",
      "|  Male| 24|  1.78|    64|yes| yes|   3|  3| Sometimes|   no|   2| no|  1|Frequently|Public_Transporta...|      Normal_Weight|\n",
      "|  Male| 22|  1.72|    68|yes| yes|   2|  3| Sometimes|   no|   2| no|  1|        no|Public_Transporta...|      Normal_Weight|\n",
      "|  Male| 26|  1.85|   105|yes| yes|   3|  3|Frequently|   no|   3| no|  2| Sometimes|Public_Transporta...|     Obesity_Type_I|\n",
      "|Female| 21|  1.72|    80|yes| yes|   2|  3|Frequently|   no|   2|yes|  2| Sometimes|Public_Transporta...|Overweight_Level_II|\n",
      "|  Male| 22|  1.65|    56| no|  no|   3|  3| Sometimes|   no|   3| no|  2| Sometimes|Public_Transporta...|      Normal_Weight|\n",
      "|  Male| 41|   1.8|    99| no| yes|   2|  3| Sometimes|   no|   2| no|  2|Frequently|          Automobile|     Obesity_Type_I|\n",
      "|  Male| 23|  1.77|    60|yes| yes|   3|  1| Sometimes|   no|   1| no|  1| Sometimes|Public_Transporta...|      Normal_Weight|\n",
      "|Female| 22|   1.7|    66|yes|  no|   3|  3|    Always|   no|   2|yes|  2| Sometimes|Public_Transporta...|      Normal_Weight|\n",
      "|  Male| 27|  1.93|   102|yes| yes|   2|  1| Sometimes|   no|   1| no|  1| Sometimes|Public_Transporta...|Overweight_Level_II|\n",
      "|Female| 29|  1.53|    78| no| yes|   2|  1| Sometimes|   no|   2| no|  0|        no|          Automobile|     Obesity_Type_I|\n",
      "|Female| 30|  1.71|    82|yes| yes|   3|  4|Frequently|  yes|   1| no|  0|        no|          Automobile|Overweight_Level_II|\n",
      "|Female| 23|  1.65|    70|yes|  no|   2|  1| Sometimes|   no|   2| no|  0| Sometimes|Public_Transporta...| Overweight_Level_I|\n",
      "+------+---+------+------+---+----+----+---+----------+-----+----+---+---+----------+--------------------+-------------------+\n",
      "only showing top 20 rows\n",
      "\n"
     ]
    }
   ],
   "source": [
    "df.show()"
   ]
  },
  {
   "attachments": {},
   "cell_type": "markdown",
   "id": "d42851db",
   "metadata": {},
   "source": [
    "# Variáveis\n",
    "\n",
    "Retirou-se a coluna dos telemoveis \n",
    "\n",
    "# TRATAMENTO DE DADOS\n",
    "\n",
    "Alterou-se as colunas Gender, FH, CAEC, SMOLE, SCC, CALC, MTRANS, OBESITY para inteiros para ser mais facil executar os algoritmos\n"
   ]
  },
  {
   "cell_type": "code",
   "execution_count": 135,
   "id": "629a125c",
   "metadata": {},
   "outputs": [
    {
     "name": "stdout",
     "output_type": "stream",
     "text": [
      "+-------------------+-----+\n",
      "|         NObeyesdad|count|\n",
      "+-------------------+-----+\n",
      "|   Obesity_Type_III| 6156|\n",
      "| Overweight_Level_I| 5510|\n",
      "|    Obesity_Type_II| 5643|\n",
      "|Insufficient_Weight| 5168|\n",
      "|Overweight_Level_II| 5510|\n",
      "|      Normal_Weight| 5453|\n",
      "|         NObeyesdad|   18|\n",
      "|     Obesity_Type_I| 6669|\n",
      "+-------------------+-----+\n",
      "\n"
     ]
    }
   ],
   "source": [
    "df.groupBy('NObeyesdad').count().show()"
   ]
  },
  {
   "cell_type": "code",
   "execution_count": 136,
   "id": "414f8d4d",
   "metadata": {},
   "outputs": [],
   "source": [
    "\n",
    "\n",
    "df = df.withColumn(\"CAEC\", when(col(\"CAEC\")== \"Sometimes\", 0).when(col(\"CAEC\") == \"Frequently\", 1).otherwise(2))\n",
    "df = df.withColumn(\"Gender\", when(col(\"Gender\")== \"Female\", 0).otherwise(1))\n",
    "df = df.withColumn(\"FH\", when(col(\"FH\")== \"yes\", 0).otherwise(1))\n",
    "df = df.withColumn(\"FAVC\", when(col(\"FAVC\")== \"yes\", 0).otherwise(1))\n",
    "df = df.withColumn(\"SMOKE\", when(col(\"SMOKE\")== \"yes\", 0).otherwise(1))\n",
    "df = df.withColumn(\"SCC\", when(col(\"SCC\")== \"yes\", 0).otherwise(1))\n",
    "df = df.withColumn(\"CALC\", when(col(\"CALC\")== \"no\", 0).when(col(\"CALC\") == \"Sometimes\", 1).when(col(\"CALC\")==\"Frequently\", 2).otherwise(3))\n",
    "df = df.withColumn(\"MTRANS\", when(col(\"MTRANS\")== \"Public_Transportation\", 0).when(col(\"MTRANS\") == \"Automobile\", 0).when(col(\"MTRANS\")==\"Motorbike\", 0).otherwise(1))\n",
    "df = df.withColumn(\"NObeyesdad\", when(col(\"NObeyesdad\")== \"Insufficient_Weight\", 0).when(col(\"NObeyesdad\") == \"Normal_Weight\", 1).when(col(\"NObeyesdad\")==\"Overweight_Level_I\", 2).when(col(\"NObeyesdad\")== \"Overweight_Level_II\",3).otherwise(4))"
   ]
  },
  {
   "cell_type": "code",
   "execution_count": 137,
   "id": "890ef891",
   "metadata": {},
   "outputs": [],
   "source": [
    "df = df.withColumnRenamed(\"family_history_with_overweight\",\"Family_HIST\")\n",
    "df = df.withColumnRenamed('FAVC','CALORICFOOD')\n",
    "df=df.withColumnRenamed('Gender','GENDER')\n",
    "df=df.withColumnRenamed('Age','AGE')\n",
    "df=df.withColumnRenamed('Weight','WEIGHT')\n",
    "df=df.withColumnRenamed('Height','HEIGHT')\n",
    "df=df.withColumnRenamed('FCVC','VEGET')\n",
    "df=df.withColumnRenamed('NCP','MEALS')\n",
    "df=df.withColumnRenamed('CAEC','BETWEENMEALS')\n",
    "df=df.withColumnRenamed('CH2O','H20')\n",
    "df=df.withColumnRenamed('SCC','CALORIES')\n",
    "df=df.withColumnRenamed('FAF','PHYSY')\n",
    "df=df.withColumnRenamed('CALC','ALCH')\n",
    "df=df.withColumnRenamed('MTRANS','TRANSPORT')\n",
    "df=df.withColumnRenamed('NObeyesdad','OBESITY')"
   ]
  },
  {
   "cell_type": "code",
   "execution_count": 138,
   "id": "ef64609b",
   "metadata": {},
   "outputs": [
    {
     "name": "stdout",
     "output_type": "stream",
     "text": [
      "+------+---+------+------+---+-----------+-----+-----+------------+-----+---+--------+-----+----+---------+-------+\n",
      "|GENDER|AGE|HEIGHT|WEIGHT| FH|CALORICFOOD|VEGET|MEALS|BETWEENMEALS|SMOKE|H20|CALORIES|PHYSY|ALCH|TRANSPORT|OBESITY|\n",
      "+------+---+------+------+---+-----------+-----+-----+------------+-----+---+--------+-----+----+---------+-------+\n",
      "|     0| 21|  1.62|    64|  0|          1|    2|    3|           0|    1|  2|       1|    0|   0|        0|      1|\n",
      "|     0| 21|  1.52|    56|  0|          1|    3|    3|           0|    0|  3|       0|    3|   1|        0|      1|\n",
      "|     1| 23|   1.8|    77|  0|          1|    2|    3|           0|    1|  2|       1|    2|   2|        0|      1|\n",
      "|     1| 27|   1.8|    87|  1|          1|    3|    3|           0|    1|  2|       1|    2|   2|        1|      2|\n",
      "|     1| 22|  1.78|  89.8|  1|          1|    2|    1|           0|    1|  2|       1|    0|   1|        0|      3|\n",
      "|     1| 29|  1.62|    53|  1|          0|    2|    3|           0|    1|  2|       1|    0|   1|        0|      1|\n",
      "|     0| 23|   1.5|    55|  0|          0|    3|    3|           0|    1|  2|       1|    1|   1|        0|      1|\n",
      "|     1| 22|  1.64|    53|  1|          1|    2|    3|           0|    1|  2|       1|    3|   1|        0|      1|\n",
      "|     1| 24|  1.78|    64|  0|          0|    3|    3|           0|    1|  2|       1|    1|   2|        0|      1|\n",
      "|     1| 22|  1.72|    68|  0|          0|    2|    3|           0|    1|  2|       1|    1|   0|        0|      1|\n",
      "|     1| 26|  1.85|   105|  0|          0|    3|    3|           1|    1|  3|       1|    2|   1|        0|      4|\n",
      "|     0| 21|  1.72|    80|  0|          0|    2|    3|           1|    1|  2|       0|    2|   1|        0|      3|\n",
      "|     1| 22|  1.65|    56|  1|          1|    3|    3|           0|    1|  3|       1|    2|   1|        0|      1|\n",
      "|     1| 41|   1.8|    99|  1|          0|    2|    3|           0|    1|  2|       1|    2|   2|        0|      4|\n",
      "|     1| 23|  1.77|    60|  0|          0|    3|    1|           0|    1|  1|       1|    1|   1|        0|      1|\n",
      "|     0| 22|   1.7|    66|  0|          1|    3|    3|           2|    1|  2|       0|    2|   1|        0|      1|\n",
      "|     1| 27|  1.93|   102|  0|          0|    2|    1|           0|    1|  1|       1|    1|   1|        0|      3|\n",
      "|     0| 29|  1.53|    78|  1|          0|    2|    1|           0|    1|  2|       1|    0|   0|        0|      4|\n",
      "|     0| 30|  1.71|    82|  0|          0|    3|    4|           1|    0|  1|       1|    0|   0|        0|      3|\n",
      "|     0| 23|  1.65|    70|  0|          1|    2|    1|           0|    1|  2|       1|    0|   1|        0|      2|\n",
      "+------+---+------+------+---+-----------+-----+-----+------------+-----+---+--------+-----+----+---------+-------+\n",
      "only showing top 20 rows\n",
      "\n"
     ]
    }
   ],
   "source": [
    "df.show()"
   ]
  },
  {
   "attachments": {},
   "cell_type": "markdown",
   "id": "cecfb284",
   "metadata": {},
   "source": [
    "Converter tudo para int"
   ]
  },
  {
   "cell_type": "code",
   "execution_count": 139,
   "id": "3f83e3a6",
   "metadata": {},
   "outputs": [
    {
     "name": "stdout",
     "output_type": "stream",
     "text": [
      "root\n",
      " |-- GENDER: integer (nullable = false)\n",
      " |-- AGE: string (nullable = true)\n",
      " |-- HEIGHT: string (nullable = true)\n",
      " |-- WEIGHT: string (nullable = true)\n",
      " |-- FH: integer (nullable = false)\n",
      " |-- CALORICFOOD: integer (nullable = false)\n",
      " |-- VEGET: integer (nullable = true)\n",
      " |-- MEALS: integer (nullable = true)\n",
      " |-- BETWEENMEALS: integer (nullable = false)\n",
      " |-- SMOKE: integer (nullable = false)\n",
      " |-- H20: integer (nullable = true)\n",
      " |-- CALORIES: integer (nullable = false)\n",
      " |-- PHYSY: integer (nullable = true)\n",
      " |-- ALCH: integer (nullable = false)\n",
      " |-- TRANSPORT: integer (nullable = false)\n",
      " |-- OBESITY: integer (nullable = false)\n",
      "\n"
     ]
    }
   ],
   "source": [
    "\n",
    "df = df.withColumn(\"VEGET\",col(\"VEGET\").cast(IntegerType())) \\\n",
    "    .withColumn(\"MEALS\",col(\"MEALS\").cast(IntegerType())) \\\n",
    "    .withColumn(\"H20\",col(\"H20\").cast(IntegerType())) \\\n",
    "    .withColumn(\"PHYSY\",col(\"PHYSY\").cast(IntegerType()))\n",
    "df = df.fillna(0)\n",
    "df.printSchema()"
   ]
  },
  {
   "cell_type": "code",
   "execution_count": 140,
   "id": "f037261b",
   "metadata": {},
   "outputs": [],
   "source": [
    "\n",
    "assemble=VectorAssembler(inputCols=[\n",
    "    'FH','CALORICFOOD', \"SMOKE\", \"VEGET\", \"MEALS\", \n",
    "    \"BETWEENMEALS\", \"H20\", \"CALORIES\", \"PHYSY\", \"ALCH\"\n",
    "], outputCol='features')"
   ]
  },
  {
   "cell_type": "code",
   "execution_count": 141,
   "id": "a0dd6e81",
   "metadata": {},
   "outputs": [],
   "source": [
    "assembled_data=assemble.transform(df)"
   ]
  },
  {
   "cell_type": "code",
   "execution_count": 142,
   "id": "3690e7e6",
   "metadata": {},
   "outputs": [
    {
     "name": "stdout",
     "output_type": "stream",
     "text": [
      "+--------------------------------------------------------------------------------------------------------------------------------+\n",
      "|standardized                                                                                                                    |\n",
      "+--------------------------------------------------------------------------------------------------------------------------------+\n",
      "|[0.0,3.117459138024327,7.0013469662372225,3.3280190253331385,3.607354980448749,0.0,3.3356217688990903,4.800676795202441,0.0,0.0]|\n",
      "|[0.0,3.117459138024327,0.0,4.992028537999708,3.607354980448749,0.0,5.003432653348636,0.0,3.603241561264033,1.9323627596117945]  |\n",
      "+--------------------------------------------------------------------------------------------------------------------------------+\n",
      "only showing top 2 rows\n",
      "\n"
     ]
    }
   ],
   "source": [
    "scale=StandardScaler(inputCol='features',outputCol='standardized')\n",
    "scale=scale.fit(assembled_data)\n",
    "scale_output= scale.transform(assembled_data)\n",
    "\n",
    "scale_output.select('standardized').show(2,truncate=False)\n"
   ]
  },
  {
   "cell_type": "code",
   "execution_count": 158,
   "id": "939a134e",
   "metadata": {},
   "outputs": [],
   "source": [
    "finalData = scale_output.select(\"features\", \"OBESITY\")\n",
    "train, test =finalData.randomSplit([0.8,0.2])"
   ]
  },
  {
   "cell_type": "code",
   "execution_count": 185,
   "id": "e6b037c9",
   "metadata": {},
   "outputs": [],
   "source": [
    "\n",
    "lr = LogisticRegression(featuresCol=\"features\" ,labelCol=\"OBESITY\", maxIter=5)\n",
    "lrModel = lr.fit(train)"
   ]
  },
  {
   "cell_type": "code",
   "execution_count": 193,
   "id": "344fab14",
   "metadata": {},
   "outputs": [
    {
     "data": {
      "text/html": [
       "<div>\n",
       "<style scoped>\n",
       "    .dataframe tbody tr th:only-of-type {\n",
       "        vertical-align: middle;\n",
       "    }\n",
       "\n",
       "    .dataframe tbody tr th {\n",
       "        vertical-align: top;\n",
       "    }\n",
       "\n",
       "    .dataframe thead th {\n",
       "        text-align: right;\n",
       "    }\n",
       "</style>\n",
       "<table border=\"1\" class=\"dataframe\">\n",
       "  <thead>\n",
       "    <tr style=\"text-align: right;\">\n",
       "      <th></th>\n",
       "      <th>OBESITY</th>\n",
       "      <th>features</th>\n",
       "      <th>rawPrediction</th>\n",
       "      <th>prediction</th>\n",
       "      <th>probability</th>\n",
       "    </tr>\n",
       "  </thead>\n",
       "  <tbody>\n",
       "    <tr>\n",
       "      <th>0</th>\n",
       "      <td>0</td>\n",
       "      <td>(1.0, 0.0, 1.0, 3.0, 2.0, 0.0, 2.0, 0.0, 0.0, ...</td>\n",
       "      <td>[1.3748497045543018, 0.7366174900550444, 1.238...</td>\n",
       "      <td>0.0</td>\n",
       "      <td>[0.4007803684874383, 0.2117023657842629, 0.349...</td>\n",
       "    </tr>\n",
       "    <tr>\n",
       "      <th>1</th>\n",
       "      <td>0</td>\n",
       "      <td>(1.0, 0.0, 1.0, 3.0, 2.0, 0.0, 2.0, 0.0, 0.0, ...</td>\n",
       "      <td>[1.3748497045543018, 0.7366174900550444, 1.238...</td>\n",
       "      <td>0.0</td>\n",
       "      <td>[0.4007803684874383, 0.2117023657842629, 0.349...</td>\n",
       "    </tr>\n",
       "    <tr>\n",
       "      <th>2</th>\n",
       "      <td>0</td>\n",
       "      <td>(1.0, 0.0, 1.0, 3.0, 2.0, 0.0, 2.0, 0.0, 0.0, ...</td>\n",
       "      <td>[1.3748497045543018, 0.7366174900550444, 1.238...</td>\n",
       "      <td>0.0</td>\n",
       "      <td>[0.4007803684874383, 0.2117023657842629, 0.349...</td>\n",
       "    </tr>\n",
       "    <tr>\n",
       "      <th>3</th>\n",
       "      <td>0</td>\n",
       "      <td>(1.0, 0.0, 1.0, 3.0, 2.0, 0.0, 2.0, 0.0, 0.0, ...</td>\n",
       "      <td>[1.3748497045543018, 0.7366174900550444, 1.238...</td>\n",
       "      <td>0.0</td>\n",
       "      <td>[0.4007803684874383, 0.2117023657842629, 0.349...</td>\n",
       "    </tr>\n",
       "    <tr>\n",
       "      <th>4</th>\n",
       "      <td>4</td>\n",
       "      <td>(0.0, 1.0, 0.0, 2.0, 3.0, 0.0, 3.0, 1.0, 0.0, ...</td>\n",
       "      <td>[-1.9390108450789176, 0.3997760068412246, -1.8...</td>\n",
       "      <td>3.0</td>\n",
       "      <td>[0.010861034195427216, 0.11261426461744567, 0....</td>\n",
       "    </tr>\n",
       "  </tbody>\n",
       "</table>\n",
       "</div>"
      ],
      "text/plain": [
       "   OBESITY                                           features  \\\n",
       "0        0  (1.0, 0.0, 1.0, 3.0, 2.0, 0.0, 2.0, 0.0, 0.0, ...   \n",
       "1        0  (1.0, 0.0, 1.0, 3.0, 2.0, 0.0, 2.0, 0.0, 0.0, ...   \n",
       "2        0  (1.0, 0.0, 1.0, 3.0, 2.0, 0.0, 2.0, 0.0, 0.0, ...   \n",
       "3        0  (1.0, 0.0, 1.0, 3.0, 2.0, 0.0, 2.0, 0.0, 0.0, ...   \n",
       "4        4  (0.0, 1.0, 0.0, 2.0, 3.0, 0.0, 3.0, 1.0, 0.0, ...   \n",
       "\n",
       "                                       rawPrediction  prediction  \\\n",
       "0  [1.3748497045543018, 0.7366174900550444, 1.238...         0.0   \n",
       "1  [1.3748497045543018, 0.7366174900550444, 1.238...         0.0   \n",
       "2  [1.3748497045543018, 0.7366174900550444, 1.238...         0.0   \n",
       "3  [1.3748497045543018, 0.7366174900550444, 1.238...         0.0   \n",
       "4  [-1.9390108450789176, 0.3997760068412246, -1.8...         3.0   \n",
       "\n",
       "                                         probability  \n",
       "0  [0.4007803684874383, 0.2117023657842629, 0.349...  \n",
       "1  [0.4007803684874383, 0.2117023657842629, 0.349...  \n",
       "2  [0.4007803684874383, 0.2117023657842629, 0.349...  \n",
       "3  [0.4007803684874383, 0.2117023657842629, 0.349...  \n",
       "4  [0.010861034195427216, 0.11261426461744567, 0....  "
      ]
     },
     "execution_count": 193,
     "metadata": {},
     "output_type": "execute_result"
    }
   ],
   "source": [
    "predictions = lrModel.transform(test)\n",
    "predictions.select(\"OBESITY\", \"features\", \"rawPrediction\", \"prediction\", \"probability\").toPandas().head(5)"
   ]
  },
  {
   "cell_type": "code",
   "execution_count": 190,
   "id": "38ed180a",
   "metadata": {},
   "outputs": [
    {
     "name": "stdout",
     "output_type": "stream",
     "text": [
      "0.7680613360789001\n"
     ]
    }
   ],
   "source": [
    "\n",
    "\n",
    "eval = BinaryClassificationEvaluator(rawPredictionCol = \"prediction\", labelCol = \"OBESITY\")\n",
    "auc = eval.evaluate(predictions)\n",
    "print(auc)"
   ]
  },
  {
   "cell_type": "code",
   "execution_count": 204,
   "id": "4b7cb042",
   "metadata": {},
   "outputs": [
    {
     "data": {
      "text/plain": [
       "0.6066028225806451"
      ]
     },
     "execution_count": 204,
     "metadata": {},
     "output_type": "execute_result"
    }
   ],
   "source": [
    "FP = predictions.where(predictions[\"OBESITY\"] == predictions[\"prediction\"]).count()\n",
    "accuracy = FP /float(predictions.count())\n",
    "accuracy"
   ]
  },
  {
   "cell_type": "code",
   "execution_count": 206,
   "id": "d3128825",
   "metadata": {},
   "outputs": [
    {
     "name": "stdout",
     "output_type": "stream",
     "text": [
      "aggregationDepth: suggested depth for treeAggregate (>= 2). (default: 2)\n",
      "elasticNetParam: the ElasticNet mixing parameter, in range [0, 1]. For alpha = 0, the penalty is an L2 penalty. For alpha = 1, it is an L1 penalty. (default: 0.0)\n",
      "family: The name of family which is a description of the label distribution to be used in the model. Supported options: auto, binomial, multinomial (default: auto)\n",
      "featuresCol: features column name. (default: features, current: features)\n",
      "fitIntercept: whether to fit an intercept term. (default: True)\n",
      "labelCol: label column name. (default: label, current: OBESITY)\n",
      "lowerBoundsOnCoefficients: The lower bounds on coefficients if fitting under bound constrained optimization. The bound matrix must be compatible with the shape (1, number of features) for binomial regression, or (number of classes, number of features) for multinomial regression. (undefined)\n",
      "lowerBoundsOnIntercepts: The lower bounds on intercepts if fitting under bound constrained optimization. The bounds vector size must beequal with 1 for binomial regression, or the number oflasses for multinomial regression. (undefined)\n",
      "maxBlockSizeInMB: maximum memory in MB for stacking input data into blocks. Data is stacked within partitions. If more than remaining data size in a partition then it is adjusted to the data size. Default 0.0 represents choosing optimal value, depends on specific algorithm. Must be >= 0. (default: 0.0)\n",
      "maxIter: max number of iterations (>= 0). (default: 100, current: 5)\n",
      "predictionCol: prediction column name. (default: prediction)\n",
      "probabilityCol: Column name for predicted class conditional probabilities. Note: Not all models output well-calibrated probability estimates! These probabilities should be treated as confidences, not precise probabilities. (default: probability)\n",
      "rawPredictionCol: raw prediction (a.k.a. confidence) column name. (default: rawPrediction)\n",
      "regParam: regularization parameter (>= 0). (default: 0.0)\n",
      "standardization: whether to standardize the training features before fitting the model. (default: True)\n",
      "threshold: Threshold in binary classification prediction, in range [0, 1]. If threshold and thresholds are both set, they must match.e.g. if threshold is p, then thresholds must be equal to [1-p, p]. (default: 0.5)\n",
      "thresholds: Thresholds in multi-class classification to adjust the probability of predicting each class. Array must have length equal to the number of classes, with values > 0, excepting that at most one value may be 0. The class with largest value p/t is predicted, where p is the original probability of that class and t is the class's threshold. (undefined)\n",
      "tol: the convergence tolerance for iterative algorithms (>= 0). (default: 1e-06)\n",
      "upperBoundsOnCoefficients: The upper bounds on coefficients if fitting under bound constrained optimization. The bound matrix must be compatible with the shape (1, number of features) for binomial regression, or (number of classes, number of features) for multinomial regression. (undefined)\n",
      "upperBoundsOnIntercepts: The upper bounds on intercepts if fitting under bound constrained optimization. The bound vector size must be equal with 1 for binomial regression, or the number of classes for multinomial regression. (undefined)\n",
      "weightCol: weight column name. If this is not set or empty, we treat all instance weights as 1.0. (undefined)\n"
     ]
    }
   ],
   "source": [
    "print(lr.explainParams())"
   ]
  },
  {
   "cell_type": "code",
   "execution_count": 213,
   "id": "eb4d3f7a",
   "metadata": {},
   "outputs": [
    {
     "ename": "TypeError",
     "evalue": "'Param' object is not subscriptable",
     "output_type": "error",
     "traceback": [
      "\u001b[0;31m---------------------------------------------------------------------------\u001b[0m",
      "\u001b[0;31mTypeError\u001b[0m                                 Traceback (most recent call last)",
      "Cell \u001b[0;32mIn[213], line 2\u001b[0m\n\u001b[1;32m      1\u001b[0m paramGrid \u001b[39m=\u001b[39m (ParamGridBuilder()\n\u001b[0;32m----> 2\u001b[0m             \u001b[39m.\u001b[39maddGrid(lr\u001b[39m.\u001b[39;49mregParam[\u001b[39m0.01\u001b[39;49m,\u001b[39m0.5\u001b[39;49m,\u001b[39m2.0\u001b[39;49m])\n\u001b[1;32m      3\u001b[0m             \u001b[39m.\u001b[39maddGrid(lr\u001b[39m.\u001b[39melasticNetParam[\u001b[39m0.0\u001b[39m,\u001b[39m0.5\u001b[39m,\u001b[39m1.0\u001b[39m])\n\u001b[1;32m      4\u001b[0m             \u001b[39m.\u001b[39maddGrid(lr\u001b[39m.\u001b[39mmaxIter[\u001b[39m1\u001b[39m,\u001b[39m5\u001b[39m,\u001b[39m10\u001b[39m])\n\u001b[1;32m      5\u001b[0m             \u001b[39m.\u001b[39mbuild())\n",
      "\u001b[0;31mTypeError\u001b[0m: 'Param' object is not subscriptable"
     ]
    }
   ],
   "source": [
    "\n",
    "paramGrid = (ParamGridBuilder()\n",
    "            .addGrid(lr.regParam[0.01,0.5,2.0])\n",
    "            .addGrid(lr.elasticNetParam[0.0,0.5,1.0])\n",
    "            .addGrid(lr.maxIter[1,5,10])\n",
    "            .build())"
   ]
  },
  {
   "cell_type": "code",
   "execution_count": null,
   "id": "05a1f673",
   "metadata": {},
   "outputs": [],
   "source": []
  }
 ],
 "metadata": {
  "kernelspec": {
   "display_name": "Python 3",
   "language": "python",
   "name": "python3"
  },
  "language_info": {
   "codemirror_mode": {
    "name": "ipython",
    "version": 3
   },
   "file_extension": ".py",
   "mimetype": "text/x-python",
   "name": "python",
   "nbconvert_exporter": "python",
   "pygments_lexer": "ipython3",
   "version": "3.10.6"
  },
  "vscode": {
   "interpreter": {
    "hash": "916dbcbb3f70747c44a77c7bcd40155683ae19c65e1c03b4aa3499c5328201f1"
   }
  }
 },
 "nbformat": 4,
 "nbformat_minor": 5
}
