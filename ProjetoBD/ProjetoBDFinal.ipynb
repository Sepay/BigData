{
 "cells": [
  {
   "cell_type": "code",
   "execution_count": 13,
   "id": "5bb5d878",
   "metadata": {},
   "outputs": [
    {
     "name": "stdout",
     "output_type": "stream",
     "text": [
      "Defaulting to user installation because normal site-packages is not writeable\n",
      "Requirement already satisfied: pyspark in /home/sepay/.local/lib/python3.10/site-packages (3.3.1)\n",
      "Requirement already satisfied: py4j==0.10.9.5 in /home/sepay/.local/lib/python3.10/site-packages (from pyspark) (0.10.9.5)\n",
      "Defaulting to user installation because normal site-packages is not writeable\n",
      "Requirement already satisfied: findspark in /home/sepay/.local/lib/python3.10/site-packages (2.0.1)\n",
      "Defaulting to user installation because normal site-packages is not writeable\n",
      "Requirement already satisfied: pandas in /home/sepay/.local/lib/python3.10/site-packages (1.5.3)\n",
      "Requirement already satisfied: numpy>=1.21.0 in /home/sepay/.local/lib/python3.10/site-packages (from pandas) (1.24.1)\n",
      "Requirement already satisfied: python-dateutil>=2.8.1 in /home/sepay/.local/lib/python3.10/site-packages (from pandas) (2.8.2)\n",
      "Requirement already satisfied: pytz>=2020.1 in /usr/lib/python3/dist-packages (from pandas) (2022.1)\n",
      "Requirement already satisfied: six>=1.5 in /usr/lib/python3/dist-packages (from python-dateutil>=2.8.1->pandas) (1.16.0)\n",
      "Defaulting to user installation because normal site-packages is not writeable\n",
      "Requirement already satisfied: scikit-learn in /home/sepay/.local/lib/python3.10/site-packages (1.2.0)\n",
      "Requirement already satisfied: joblib>=1.1.1 in /home/sepay/.local/lib/python3.10/site-packages (from scikit-learn) (1.2.0)\n",
      "Requirement already satisfied: numpy>=1.17.3 in /home/sepay/.local/lib/python3.10/site-packages (from scikit-learn) (1.24.1)\n",
      "Requirement already satisfied: scipy>=1.3.2 in /home/sepay/.local/lib/python3.10/site-packages (from scikit-learn) (1.10.0)\n",
      "Requirement already satisfied: threadpoolctl>=2.0.0 in /home/sepay/.local/lib/python3.10/site-packages (from scikit-learn) (3.1.0)\n",
      "Defaulting to user installation because normal site-packages is not writeable\n",
      "Requirement already satisfied: matplotlib in /home/sepay/.local/lib/python3.10/site-packages (3.6.3)\n",
      "Requirement already satisfied: contourpy>=1.0.1 in /home/sepay/.local/lib/python3.10/site-packages (from matplotlib) (1.0.7)\n",
      "Requirement already satisfied: numpy>=1.19 in /home/sepay/.local/lib/python3.10/site-packages (from matplotlib) (1.24.1)\n",
      "Requirement already satisfied: pillow>=6.2.0 in /usr/lib/python3/dist-packages (from matplotlib) (9.0.1)\n",
      "Requirement already satisfied: fonttools>=4.22.0 in /home/sepay/.local/lib/python3.10/site-packages (from matplotlib) (4.38.0)\n",
      "Requirement already satisfied: cycler>=0.10 in /home/sepay/.local/lib/python3.10/site-packages (from matplotlib) (0.11.0)\n",
      "Requirement already satisfied: packaging>=20.0 in /home/sepay/.local/lib/python3.10/site-packages (from matplotlib) (23.0)\n",
      "Requirement already satisfied: python-dateutil>=2.7 in /home/sepay/.local/lib/python3.10/site-packages (from matplotlib) (2.8.2)\n",
      "Requirement already satisfied: kiwisolver>=1.0.1 in /home/sepay/.local/lib/python3.10/site-packages (from matplotlib) (1.4.4)\n",
      "Requirement already satisfied: pyparsing>=2.2.1 in /usr/lib/python3/dist-packages (from matplotlib) (2.4.7)\n",
      "Requirement already satisfied: six>=1.5 in /usr/lib/python3/dist-packages (from python-dateutil>=2.7->matplotlib) (1.16.0)\n",
      "Defaulting to user installation because normal site-packages is not writeable\n",
      "Requirement already satisfied: treeplot in /home/sepay/.local/lib/python3.10/site-packages (0.1.16)\n",
      "Requirement already satisfied: matplotlib in /home/sepay/.local/lib/python3.10/site-packages (from treeplot) (3.6.3)\n",
      "Requirement already satisfied: numpy in /home/sepay/.local/lib/python3.10/site-packages (from treeplot) (1.24.1)\n",
      "Requirement already satisfied: wget in /home/sepay/.local/lib/python3.10/site-packages (from treeplot) (3.2)\n",
      "Requirement already satisfied: funcsigs in /home/sepay/.local/lib/python3.10/site-packages (from treeplot) (1.0.2)\n",
      "Requirement already satisfied: sklearn in /home/sepay/.local/lib/python3.10/site-packages (from treeplot) (0.0.post1)\n",
      "Requirement already satisfied: graphviz>=0.20.1 in /home/sepay/.local/lib/python3.10/site-packages (from treeplot) (0.20.1)\n",
      "Requirement already satisfied: kiwisolver>=1.0.1 in /home/sepay/.local/lib/python3.10/site-packages (from matplotlib->treeplot) (1.4.4)\n",
      "Requirement already satisfied: pyparsing>=2.2.1 in /usr/lib/python3/dist-packages (from matplotlib->treeplot) (2.4.7)\n",
      "Requirement already satisfied: python-dateutil>=2.7 in /home/sepay/.local/lib/python3.10/site-packages (from matplotlib->treeplot) (2.8.2)\n",
      "Requirement already satisfied: cycler>=0.10 in /home/sepay/.local/lib/python3.10/site-packages (from matplotlib->treeplot) (0.11.0)\n",
      "Requirement already satisfied: contourpy>=1.0.1 in /home/sepay/.local/lib/python3.10/site-packages (from matplotlib->treeplot) (1.0.7)\n",
      "Requirement already satisfied: fonttools>=4.22.0 in /home/sepay/.local/lib/python3.10/site-packages (from matplotlib->treeplot) (4.38.0)\n",
      "Requirement already satisfied: packaging>=20.0 in /home/sepay/.local/lib/python3.10/site-packages (from matplotlib->treeplot) (23.0)\n",
      "Requirement already satisfied: pillow>=6.2.0 in /usr/lib/python3/dist-packages (from matplotlib->treeplot) (9.0.1)\n",
      "Requirement already satisfied: six>=1.5 in /usr/lib/python3/dist-packages (from python-dateutil>=2.7->matplotlib->treeplot) (1.16.0)\n"
     ]
    }
   ],
   "source": [
    "!pip install pyspark\n",
    "!pip install findspark  \n",
    "!pip install pandas\n",
    "!pip install -U scikit-learn\n",
    "!pip install -U matplotlib\n",
    "!pip install treeplot"
   ]
  },
  {
   "cell_type": "code",
   "execution_count": 76,
   "id": "4828caa5",
   "metadata": {},
   "outputs": [
    {
     "data": {
      "text/html": [
       "\n",
       "            <div>\n",
       "                <p><b>SparkSession - in-memory</b></p>\n",
       "                \n",
       "        <div>\n",
       "            <p><b>SparkContext</b></p>\n",
       "\n",
       "            <p><a href=\"http://sepay-HP.home:4040\">Spark UI</a></p>\n",
       "\n",
       "            <dl>\n",
       "              <dt>Version</dt>\n",
       "                <dd><code>v3.3.1</code></dd>\n",
       "              <dt>Master</dt>\n",
       "                <dd><code>local[*]</code></dd>\n",
       "              <dt>AppName</dt>\n",
       "                <dd><code>Pyspark Tutorial</code></dd>\n",
       "            </dl>\n",
       "        </div>\n",
       "        \n",
       "            </div>\n",
       "        "
      ],
      "text/plain": [
       "<pyspark.sql.session.SparkSession at 0x7fb0b8d8cd30>"
      ]
     },
     "execution_count": 76,
     "metadata": {},
     "output_type": "execute_result"
    }
   ],
   "source": [
    "from pyspark.sql import SparkSession\n",
    "import findspark\n",
    "from pyspark.ml.tuning import ParamGridBuilder, CrossValidator\n",
    "from pyspark.sql.functions import * \n",
    "from pyspark.sql.types import StringType,BooleanType,DateType, IntegerType  \n",
    "from pyspark.ml.feature import VectorAssembler\n",
    "from pyspark.ml.feature import StandardScaler\n",
    "from pyspark.ml.classification import LogisticRegression\n",
    "from pyspark.ml.evaluation import BinaryClassificationEvaluator\n",
    "import matplotlib.pyplot as plt\n",
    "from pyspark.sql import SQLContext\n",
    "from sklearn.metrics import confusion_matrix\n",
    "from pyspark.conf import SparkConf\n",
    "from sklearn.metrics import roc_curve, roc_auc_score\n",
    "\n",
    "\n",
    "\n",
    "findspark.init()\n",
    "\n",
    "spark = SparkSession.builder.appName(\"Pyspark Tutorial\")\\\n",
    "                    .config(\"spark.memory.offHeap.enabled\",\"true\")\\\n",
    "                    .config(\"spark.memory.offHeap.size\",\"10g\")\\\n",
    "                    .getOrCreate()\n",
    "\n",
    "\n",
    "# check spark configuration\n",
    "\n",
    "spark"
   ]
  },
  {
   "cell_type": "code",
   "execution_count": 45,
   "id": "c6f8e230",
   "metadata": {},
   "outputs": [
    {
     "name": "stdout",
     "output_type": "stream",
     "text": [
      "  % Total    % Received % Xferd  Average Speed   Time    Time     Time  Current\n",
      "                                 Dload  Upload   Total   Spent    Left  Speed\n",
      "100  257k  100  257k    0     0  1539k      0 --:--:-- --:--:-- --:--:-- 1532k\n"
     ]
    }
   ],
   "source": [
    "!curl https://raw.githubusercontent.com/Sepay/Programming/main/obesity.csv >> obesity.csv\n",
    "    \n",
    "df = spark.read.csv('obesity.csv',header=True,sep=\",\")"
   ]
  },
  {
   "cell_type": "code",
   "execution_count": 46,
   "id": "214d12f8",
   "metadata": {},
   "outputs": [],
   "source": [
    "df = df.withColumnRenamed('family_history_with_overweight', 'FH')"
   ]
  },
  {
   "cell_type": "code",
   "execution_count": 47,
   "id": "366517a6",
   "metadata": {},
   "outputs": [
    {
     "name": "stdout",
     "output_type": "stream",
     "text": [
      "+------+---+------+------+---+----+----+---+---------+-----+----+---+---+---+----------+---------------------+-------------------+\n",
      "|Gender|Age|Height|Weight|FH |FAVC|FCVC|NCP|CAEC     |SMOKE|CH2O|SCC|FAF|TUE|CALC      |MTRANS               |NObeyesdad         |\n",
      "+------+---+------+------+---+----+----+---+---------+-----+----+---+---+---+----------+---------------------+-------------------+\n",
      "|Female|21 |1.62  |64    |yes|no  |2   |3  |Sometimes|no   |2   |no |0  |1  |no        |Public_Transportation|Normal_Weight      |\n",
      "|Female|21 |1.52  |56    |yes|no  |3   |3  |Sometimes|yes  |3   |yes|3  |0  |Sometimes |Public_Transportation|Normal_Weight      |\n",
      "|Male  |23 |1.8   |77    |yes|no  |2   |3  |Sometimes|no   |2   |no |2  |1  |Frequently|Public_Transportation|Normal_Weight      |\n",
      "|Male  |27 |1.8   |87    |no |no  |3   |3  |Sometimes|no   |2   |no |2  |0  |Frequently|Walking              |Overweight_Level_I |\n",
      "|Male  |22 |1.78  |89.8  |no |no  |2   |1  |Sometimes|no   |2   |no |0  |0  |Sometimes |Public_Transportation|Overweight_Level_II|\n",
      "+------+---+------+------+---+----+----+---+---------+-----+----+---+---+---+----------+---------------------+-------------------+\n",
      "only showing top 5 rows\n",
      "\n"
     ]
    }
   ],
   "source": [
    "df.show(5,0)"
   ]
  },
  {
   "cell_type": "code",
   "execution_count": 48,
   "id": "fc973d82",
   "metadata": {},
   "outputs": [
    {
     "data": {
      "text/plain": [
       "67583"
      ]
     },
     "execution_count": 48,
     "metadata": {},
     "output_type": "execute_result"
    }
   ],
   "source": [
    "df.count()"
   ]
  },
  {
   "cell_type": "code",
   "execution_count": 49,
   "id": "69835111",
   "metadata": {},
   "outputs": [],
   "source": [
    "df= df.drop('TUE')"
   ]
  },
  {
   "cell_type": "code",
   "execution_count": 50,
   "id": "fa01306d",
   "metadata": {},
   "outputs": [
    {
     "name": "stdout",
     "output_type": "stream",
     "text": [
      "+------+---+------+------+---+----+----+---+----------+-----+----+---+---+----------+--------------------+-------------------+\n",
      "|Gender|Age|Height|Weight| FH|FAVC|FCVC|NCP|      CAEC|SMOKE|CH2O|SCC|FAF|      CALC|              MTRANS|         NObeyesdad|\n",
      "+------+---+------+------+---+----+----+---+----------+-----+----+---+---+----------+--------------------+-------------------+\n",
      "|Female| 21|  1.62|    64|yes|  no|   2|  3| Sometimes|   no|   2| no|  0|        no|Public_Transporta...|      Normal_Weight|\n",
      "|Female| 21|  1.52|    56|yes|  no|   3|  3| Sometimes|  yes|   3|yes|  3| Sometimes|Public_Transporta...|      Normal_Weight|\n",
      "|  Male| 23|   1.8|    77|yes|  no|   2|  3| Sometimes|   no|   2| no|  2|Frequently|Public_Transporta...|      Normal_Weight|\n",
      "|  Male| 27|   1.8|    87| no|  no|   3|  3| Sometimes|   no|   2| no|  2|Frequently|             Walking| Overweight_Level_I|\n",
      "|  Male| 22|  1.78|  89.8| no|  no|   2|  1| Sometimes|   no|   2| no|  0| Sometimes|Public_Transporta...|Overweight_Level_II|\n",
      "|  Male| 29|  1.62|    53| no| yes|   2|  3| Sometimes|   no|   2| no|  0| Sometimes|          Automobile|      Normal_Weight|\n",
      "|Female| 23|   1.5|    55|yes| yes|   3|  3| Sometimes|   no|   2| no|  1| Sometimes|           Motorbike|      Normal_Weight|\n",
      "|  Male| 22|  1.64|    53| no|  no|   2|  3| Sometimes|   no|   2| no|  3| Sometimes|Public_Transporta...|      Normal_Weight|\n",
      "|  Male| 24|  1.78|    64|yes| yes|   3|  3| Sometimes|   no|   2| no|  1|Frequently|Public_Transporta...|      Normal_Weight|\n",
      "|  Male| 22|  1.72|    68|yes| yes|   2|  3| Sometimes|   no|   2| no|  1|        no|Public_Transporta...|      Normal_Weight|\n",
      "|  Male| 26|  1.85|   105|yes| yes|   3|  3|Frequently|   no|   3| no|  2| Sometimes|Public_Transporta...|     Obesity_Type_I|\n",
      "|Female| 21|  1.72|    80|yes| yes|   2|  3|Frequently|   no|   2|yes|  2| Sometimes|Public_Transporta...|Overweight_Level_II|\n",
      "|  Male| 22|  1.65|    56| no|  no|   3|  3| Sometimes|   no|   3| no|  2| Sometimes|Public_Transporta...|      Normal_Weight|\n",
      "|  Male| 41|   1.8|    99| no| yes|   2|  3| Sometimes|   no|   2| no|  2|Frequently|          Automobile|     Obesity_Type_I|\n",
      "|  Male| 23|  1.77|    60|yes| yes|   3|  1| Sometimes|   no|   1| no|  1| Sometimes|Public_Transporta...|      Normal_Weight|\n",
      "|Female| 22|   1.7|    66|yes|  no|   3|  3|    Always|   no|   2|yes|  2| Sometimes|Public_Transporta...|      Normal_Weight|\n",
      "|  Male| 27|  1.93|   102|yes| yes|   2|  1| Sometimes|   no|   1| no|  1| Sometimes|Public_Transporta...|Overweight_Level_II|\n",
      "|Female| 29|  1.53|    78| no| yes|   2|  1| Sometimes|   no|   2| no|  0|        no|          Automobile|     Obesity_Type_I|\n",
      "|Female| 30|  1.71|    82|yes| yes|   3|  4|Frequently|  yes|   1| no|  0|        no|          Automobile|Overweight_Level_II|\n",
      "|Female| 23|  1.65|    70|yes|  no|   2|  1| Sometimes|   no|   2| no|  0| Sometimes|Public_Transporta...| Overweight_Level_I|\n",
      "+------+---+------+------+---+----+----+---+----------+-----+----+---+---+----------+--------------------+-------------------+\n",
      "only showing top 20 rows\n",
      "\n"
     ]
    }
   ],
   "source": [
    "df.show()"
   ]
  },
  {
   "attachments": {},
   "cell_type": "markdown",
   "id": "d42851db",
   "metadata": {},
   "source": [
    "# Variáveis\n",
    "\n",
    "Retirou-se a coluna dos telemoveis \n",
    "\n",
    "# TRATAMENTO DE DADOS\n",
    "\n",
    "Alterou-se as colunas Gender, FH, CAEC, SMOLE, SCC, CALC, MTRANS, OBESITY para inteiros para ser mais facil executar os algoritmos\n"
   ]
  },
  {
   "cell_type": "code",
   "execution_count": 51,
   "id": "629a125c",
   "metadata": {},
   "outputs": [
    {
     "name": "stdout",
     "output_type": "stream",
     "text": [
      "+-------------------+-----+\n",
      "|         NObeyesdad|count|\n",
      "+-------------------+-----+\n",
      "|   Obesity_Type_III|10368|\n",
      "| Overweight_Level_I| 9280|\n",
      "|    Obesity_Type_II| 9504|\n",
      "|Insufficient_Weight| 8704|\n",
      "|Overweight_Level_II| 9280|\n",
      "|      Normal_Weight| 9184|\n",
      "|         NObeyesdad|   31|\n",
      "|     Obesity_Type_I|11232|\n",
      "+-------------------+-----+\n",
      "\n"
     ]
    }
   ],
   "source": [
    "df.groupBy('NObeyesdad').count().show()"
   ]
  },
  {
   "cell_type": "code",
   "execution_count": 52,
   "id": "414f8d4d",
   "metadata": {},
   "outputs": [],
   "source": [
    "df = df.withColumn(\"CAEC\", when(col(\"CAEC\")== \"Sometimes\", 0).when(col(\"CAEC\") == \"Frequently\", 1).otherwise(2))\n",
    "df = df.withColumn(\"Gender\", when(col(\"Gender\")== \"Female\", 0).otherwise(1))\n",
    "df = df.withColumn(\"FH\", when(col(\"FH\")== \"yes\", 0).otherwise(1))\n",
    "df = df.withColumn(\"FAVC\", when(col(\"FAVC\")== \"yes\", 0).otherwise(1))\n",
    "df = df.withColumn(\"SMOKE\", when(col(\"SMOKE\")== \"yes\", 0).otherwise(1))\n",
    "df = df.withColumn(\"SCC\", when(col(\"SCC\")== \"yes\", 0).otherwise(1))\n",
    "df = df.withColumn(\"CALC\", when(col(\"CALC\")== \"no\", 0).when(col(\"CALC\") == \"Sometimes\", 1).when(col(\"CALC\")==\"Frequently\", 2).otherwise(3))\n",
    "df = df.withColumn(\"MTRANS\", when(col(\"MTRANS\")== \"Public_Transportation\", 0).when(col(\"MTRANS\") == \"Automobile\", 0).when(col(\"MTRANS\")==\"Motorbike\", 0).otherwise(1))\n",
    "df = df.withColumn(\"NObeyesdad\", when(col(\"NObeyesdad\")== \"Insufficient_Weight\", 0).when(col(\"NObeyesdad\") == \"Normal_Weight\", 0).when(col(\"NObeyesdad\")==\"Overweight_Level_I\", 0).when(col(\"NObeyesdad\")== \"Overweight_Level_II\",0).otherwise(1))"
   ]
  },
  {
   "cell_type": "code",
   "execution_count": 53,
   "id": "890ef891",
   "metadata": {},
   "outputs": [],
   "source": [
    "df = df.withColumnRenamed(\"family_history_with_overweight\",\"Family_HIST\")\n",
    "df = df.withColumnRenamed('FAVC','CALORICFOOD')\n",
    "df=df.withColumnRenamed('Gender','GENDER')\n",
    "df=df.withColumnRenamed('Age','AGE')\n",
    "df=df.withColumnRenamed('Weight','WEIGHT')\n",
    "df=df.withColumnRenamed('Height','HEIGHT')\n",
    "df=df.withColumnRenamed('FCVC','VEGET')\n",
    "df=df.withColumnRenamed('NCP','MEALS')\n",
    "df=df.withColumnRenamed('CAEC','BETWEENMEALS')\n",
    "df=df.withColumnRenamed('CH2O','H20')\n",
    "df=df.withColumnRenamed('SCC','CALORIES')\n",
    "df=df.withColumnRenamed('FAF','PHYSY')\n",
    "df=df.withColumnRenamed('CALC','ALCH')\n",
    "df=df.withColumnRenamed('MTRANS','TRANSPORT')\n",
    "df=df.withColumnRenamed('NObeyesdad','OBESITY')"
   ]
  },
  {
   "cell_type": "code",
   "execution_count": 54,
   "id": "ef64609b",
   "metadata": {},
   "outputs": [
    {
     "name": "stdout",
     "output_type": "stream",
     "text": [
      "+------+---+------+------+---+-----------+-----+-----+------------+-----+---+--------+-----+----+---------+-------+\n",
      "|GENDER|AGE|HEIGHT|WEIGHT| FH|CALORICFOOD|VEGET|MEALS|BETWEENMEALS|SMOKE|H20|CALORIES|PHYSY|ALCH|TRANSPORT|OBESITY|\n",
      "+------+---+------+------+---+-----------+-----+-----+------------+-----+---+--------+-----+----+---------+-------+\n",
      "|     0| 21|  1.62|    64|  0|          1|    2|    3|           0|    1|  2|       1|    0|   0|        0|      0|\n",
      "|     0| 21|  1.52|    56|  0|          1|    3|    3|           0|    0|  3|       0|    3|   1|        0|      0|\n",
      "|     1| 23|   1.8|    77|  0|          1|    2|    3|           0|    1|  2|       1|    2|   2|        0|      0|\n",
      "|     1| 27|   1.8|    87|  1|          1|    3|    3|           0|    1|  2|       1|    2|   2|        1|      0|\n",
      "|     1| 22|  1.78|  89.8|  1|          1|    2|    1|           0|    1|  2|       1|    0|   1|        0|      0|\n",
      "|     1| 29|  1.62|    53|  1|          0|    2|    3|           0|    1|  2|       1|    0|   1|        0|      0|\n",
      "|     0| 23|   1.5|    55|  0|          0|    3|    3|           0|    1|  2|       1|    1|   1|        0|      0|\n",
      "|     1| 22|  1.64|    53|  1|          1|    2|    3|           0|    1|  2|       1|    3|   1|        0|      0|\n",
      "|     1| 24|  1.78|    64|  0|          0|    3|    3|           0|    1|  2|       1|    1|   2|        0|      0|\n",
      "|     1| 22|  1.72|    68|  0|          0|    2|    3|           0|    1|  2|       1|    1|   0|        0|      0|\n",
      "|     1| 26|  1.85|   105|  0|          0|    3|    3|           1|    1|  3|       1|    2|   1|        0|      1|\n",
      "|     0| 21|  1.72|    80|  0|          0|    2|    3|           1|    1|  2|       0|    2|   1|        0|      0|\n",
      "|     1| 22|  1.65|    56|  1|          1|    3|    3|           0|    1|  3|       1|    2|   1|        0|      0|\n",
      "|     1| 41|   1.8|    99|  1|          0|    2|    3|           0|    1|  2|       1|    2|   2|        0|      1|\n",
      "|     1| 23|  1.77|    60|  0|          0|    3|    1|           0|    1|  1|       1|    1|   1|        0|      0|\n",
      "|     0| 22|   1.7|    66|  0|          1|    3|    3|           2|    1|  2|       0|    2|   1|        0|      0|\n",
      "|     1| 27|  1.93|   102|  0|          0|    2|    1|           0|    1|  1|       1|    1|   1|        0|      0|\n",
      "|     0| 29|  1.53|    78|  1|          0|    2|    1|           0|    1|  2|       1|    0|   0|        0|      1|\n",
      "|     0| 30|  1.71|    82|  0|          0|    3|    4|           1|    0|  1|       1|    0|   0|        0|      0|\n",
      "|     0| 23|  1.65|    70|  0|          1|    2|    1|           0|    1|  2|       1|    0|   1|        0|      0|\n",
      "+------+---+------+------+---+-----------+-----+-----+------------+-----+---+--------+-----+----+---------+-------+\n",
      "only showing top 20 rows\n",
      "\n"
     ]
    }
   ],
   "source": [
    "df.show()"
   ]
  },
  {
   "attachments": {},
   "cell_type": "markdown",
   "id": "cecfb284",
   "metadata": {},
   "source": [
    "Converter tudo para int"
   ]
  },
  {
   "cell_type": "code",
   "execution_count": 55,
   "id": "3f83e3a6",
   "metadata": {},
   "outputs": [
    {
     "name": "stdout",
     "output_type": "stream",
     "text": [
      "root\n",
      " |-- GENDER: integer (nullable = false)\n",
      " |-- AGE: string (nullable = true)\n",
      " |-- HEIGHT: string (nullable = true)\n",
      " |-- WEIGHT: string (nullable = true)\n",
      " |-- FH: integer (nullable = false)\n",
      " |-- CALORICFOOD: integer (nullable = false)\n",
      " |-- VEGET: integer (nullable = true)\n",
      " |-- MEALS: integer (nullable = true)\n",
      " |-- BETWEENMEALS: integer (nullable = false)\n",
      " |-- SMOKE: integer (nullable = false)\n",
      " |-- H20: integer (nullable = true)\n",
      " |-- CALORIES: integer (nullable = false)\n",
      " |-- PHYSY: integer (nullable = true)\n",
      " |-- ALCH: integer (nullable = false)\n",
      " |-- TRANSPORT: integer (nullable = false)\n",
      " |-- OBESITY: integer (nullable = false)\n",
      "\n"
     ]
    }
   ],
   "source": [
    "\n",
    "df = df.withColumn(\"VEGET\",col(\"VEGET\").cast(IntegerType())) \\\n",
    "    .withColumn(\"MEALS\",col(\"MEALS\").cast(IntegerType())) \\\n",
    "    .withColumn(\"H20\",col(\"H20\").cast(IntegerType())) \\\n",
    "    .withColumn(\"PHYSY\",col(\"PHYSY\").cast(IntegerType()))\n",
    "df = df.fillna(0)\n",
    "df.printSchema()"
   ]
  },
  {
   "cell_type": "code",
   "execution_count": 56,
   "id": "f037261b",
   "metadata": {},
   "outputs": [],
   "source": [
    "\n",
    "assemble=VectorAssembler(inputCols=[\n",
    "    'FH','CALORICFOOD', \"SMOKE\", \"VEGET\", \"MEALS\", \n",
    "    \"BETWEENMEALS\", \"H20\", \"CALORIES\", \"PHYSY\", \"ALCH\"\n",
    "], outputCol='features')"
   ]
  },
  {
   "cell_type": "code",
   "execution_count": 57,
   "id": "a0dd6e81",
   "metadata": {},
   "outputs": [],
   "source": [
    "assembled_data=assemble.transform(df)"
   ]
  },
  {
   "cell_type": "code",
   "execution_count": 58,
   "id": "3690e7e6",
   "metadata": {},
   "outputs": [
    {
     "name": "stdout",
     "output_type": "stream",
     "text": [
      "+---------------------------------------------------------------------------------------------------------------------------------+\n",
      "|standardized                                                                                                                     |\n",
      "+---------------------------------------------------------------------------------------------------------------------------------+\n",
      "|[0.0,3.1173709787072306,7.00141709593654,3.3278244592664774,3.6072235328826476,0.0,3.3355179356296287,4.800724241494605,0.0,0.0] |\n",
      "|[0.0,3.1173709787072306,0.0,4.991736688899716,3.6072235328826476,0.0,5.003276903444443,0.0,3.6032638500329375,1.9321945372474882]|\n",
      "+---------------------------------------------------------------------------------------------------------------------------------+\n",
      "only showing top 2 rows\n",
      "\n"
     ]
    }
   ],
   "source": [
    "scale=StandardScaler(inputCol='features',outputCol='standardized')\n",
    "scale=scale.fit(assembled_data)\n",
    "scale_output= scale.transform(assembled_data)\n",
    "\n",
    "scale_output.select('standardized').show(2,truncate=False)\n"
   ]
  },
  {
   "cell_type": "code",
   "execution_count": 59,
   "id": "939a134e",
   "metadata": {},
   "outputs": [],
   "source": [
    "finalData = scale_output.select(\"features\", \"OBESITY\")\n",
    "train, test =finalData.randomSplit([0.8,0.2])"
   ]
  },
  {
   "cell_type": "code",
   "execution_count": 60,
   "id": "e6b037c9",
   "metadata": {},
   "outputs": [],
   "source": [
    "\n",
    "lr = LogisticRegression(featuresCol=\"features\" ,labelCol=\"OBESITY\", maxIter=5)\n",
    "lrModel = lr.fit(train)"
   ]
  },
  {
   "cell_type": "code",
   "execution_count": 61,
   "id": "344fab14",
   "metadata": {},
   "outputs": [
    {
     "data": {
      "text/html": [
       "<div>\n",
       "<style scoped>\n",
       "    .dataframe tbody tr th:only-of-type {\n",
       "        vertical-align: middle;\n",
       "    }\n",
       "\n",
       "    .dataframe tbody tr th {\n",
       "        vertical-align: top;\n",
       "    }\n",
       "\n",
       "    .dataframe thead th {\n",
       "        text-align: right;\n",
       "    }\n",
       "</style>\n",
       "<table border=\"1\" class=\"dataframe\">\n",
       "  <thead>\n",
       "    <tr style=\"text-align: right;\">\n",
       "      <th></th>\n",
       "      <th>OBESITY</th>\n",
       "      <th>features</th>\n",
       "      <th>rawPrediction</th>\n",
       "      <th>prediction</th>\n",
       "      <th>probability</th>\n",
       "    </tr>\n",
       "  </thead>\n",
       "  <tbody>\n",
       "    <tr>\n",
       "      <th>0</th>\n",
       "      <td>0</td>\n",
       "      <td>(1.0, 0.0, 1.0, 3.0, 2.0, 0.0, 2.0, 0.0, 0.0, ...</td>\n",
       "      <td>[4.373470752377623, -4.373470752377623]</td>\n",
       "      <td>0.0</td>\n",
       "      <td>[0.9875495604078589, 0.012450439592141094]</td>\n",
       "    </tr>\n",
       "    <tr>\n",
       "      <th>1</th>\n",
       "      <td>0</td>\n",
       "      <td>(1.0, 0.0, 1.0, 3.0, 2.0, 0.0, 2.0, 0.0, 0.0, ...</td>\n",
       "      <td>[4.373470752377623, -4.373470752377623]</td>\n",
       "      <td>0.0</td>\n",
       "      <td>[0.9875495604078589, 0.012450439592141094]</td>\n",
       "    </tr>\n",
       "    <tr>\n",
       "      <th>2</th>\n",
       "      <td>0</td>\n",
       "      <td>(1.0, 0.0, 1.0, 3.0, 2.0, 0.0, 2.0, 0.0, 0.0, ...</td>\n",
       "      <td>[4.373470752377623, -4.373470752377623]</td>\n",
       "      <td>0.0</td>\n",
       "      <td>[0.9875495604078589, 0.012450439592141094]</td>\n",
       "    </tr>\n",
       "    <tr>\n",
       "      <th>3</th>\n",
       "      <td>0</td>\n",
       "      <td>(1.0, 0.0, 1.0, 3.0, 2.0, 0.0, 2.0, 0.0, 0.0, ...</td>\n",
       "      <td>[4.373470752377623, -4.373470752377623]</td>\n",
       "      <td>0.0</td>\n",
       "      <td>[0.9875495604078589, 0.012450439592141094]</td>\n",
       "    </tr>\n",
       "    <tr>\n",
       "      <th>4</th>\n",
       "      <td>1</td>\n",
       "      <td>(0.0, 1.0, 0.0, 2.0, 3.0, 0.0, 3.0, 1.0, 0.0, ...</td>\n",
       "      <td>[0.41921566387083375, -0.41921566387083375]</td>\n",
       "      <td>0.0</td>\n",
       "      <td>[0.6032955498926751, 0.3967044501073249]</td>\n",
       "    </tr>\n",
       "  </tbody>\n",
       "</table>\n",
       "</div>"
      ],
      "text/plain": [
       "   OBESITY                                           features  \\\n",
       "0        0  (1.0, 0.0, 1.0, 3.0, 2.0, 0.0, 2.0, 0.0, 0.0, ...   \n",
       "1        0  (1.0, 0.0, 1.0, 3.0, 2.0, 0.0, 2.0, 0.0, 0.0, ...   \n",
       "2        0  (1.0, 0.0, 1.0, 3.0, 2.0, 0.0, 2.0, 0.0, 0.0, ...   \n",
       "3        0  (1.0, 0.0, 1.0, 3.0, 2.0, 0.0, 2.0, 0.0, 0.0, ...   \n",
       "4        1  (0.0, 1.0, 0.0, 2.0, 3.0, 0.0, 3.0, 1.0, 0.0, ...   \n",
       "\n",
       "                                 rawPrediction  prediction  \\\n",
       "0      [4.373470752377623, -4.373470752377623]         0.0   \n",
       "1      [4.373470752377623, -4.373470752377623]         0.0   \n",
       "2      [4.373470752377623, -4.373470752377623]         0.0   \n",
       "3      [4.373470752377623, -4.373470752377623]         0.0   \n",
       "4  [0.41921566387083375, -0.41921566387083375]         0.0   \n",
       "\n",
       "                                  probability  \n",
       "0  [0.9875495604078589, 0.012450439592141094]  \n",
       "1  [0.9875495604078589, 0.012450439592141094]  \n",
       "2  [0.9875495604078589, 0.012450439592141094]  \n",
       "3  [0.9875495604078589, 0.012450439592141094]  \n",
       "4    [0.6032955498926751, 0.3967044501073249]  "
      ]
     },
     "execution_count": 61,
     "metadata": {},
     "output_type": "execute_result"
    }
   ],
   "source": [
    "predictions = lrModel.transform(test)\n",
    "predictions.select(\"OBESITY\", \"features\", \"rawPrediction\", \"prediction\", \"probability\").toPandas().head(5)"
   ]
  },
  {
   "cell_type": "code",
   "execution_count": 62,
   "id": "38ed180a",
   "metadata": {},
   "outputs": [
    {
     "name": "stdout",
     "output_type": "stream",
     "text": [
      "0.7667610745816369\n"
     ]
    }
   ],
   "source": [
    "\n",
    "\n",
    "eval = BinaryClassificationEvaluator(rawPredictionCol = \"prediction\", labelCol = \"OBESITY\")\n",
    "auc = eval.evaluate(predictions)\n",
    "print(auc)"
   ]
  },
  {
   "cell_type": "code",
   "execution_count": 71,
   "id": "66073619",
   "metadata": {},
   "outputs": [
    {
     "data": {
      "image/png": "[encoded data removed]",
      "text/plain": [
       "<Figure size 640x480 with 2 Axes>"
      ]
     },
     "metadata": {},
     "output_type": "display_data"
    }
   ],
   "source": [
    "from sklearn import metrics\n",
    "y_true = predictions.select(\"OBESITY\")\n",
    "y_true = y_true.toPandas()\n",
    "\n",
    "y_pred = predictions.select(\"prediction\")\n",
    "y_pred = y_pred.toPandas()\n",
    "\n",
    "cnfMatrix = confusion_matrix(y_true, y_pred)\n",
    "\n",
    "\n",
    "cm_display = metrics.ConfusionMatrixDisplay(confusion_matrix = cnfMatrix, display_labels = [False, True])\n",
    "cm_display.plot()\n",
    "plt.show() "
   ]
  },
  {
   "cell_type": "code",
   "execution_count": 72,
   "id": "4b7cb042",
   "metadata": {},
   "outputs": [
    {
     "data": {
      "text/plain": [
       "0.7587341961547094"
      ]
     },
     "execution_count": 72,
     "metadata": {},
     "output_type": "execute_result"
    }
   ],
   "source": [
    "FP = predictions.where(predictions[\"OBESITY\"] == predictions[\"prediction\"]).count()\n",
    "accuracy = FP /float(predictions.count())\n",
    "accuracy"
   ]
  },
  {
   "cell_type": "code",
   "execution_count": 75,
   "id": "ca1d8064",
   "metadata": {},
   "outputs": [
    {
     "data": {
      "text/plain": [
       "Text(0, 0.5, 'True Positive Rate')"
      ]
     },
     "execution_count": 75,
     "metadata": {},
     "output_type": "execute_result"
    },
    {
     "data": {
      "image/png": "[encoded data removed]",
      "text/plain": [
       "<Figure size 640x480 with 1 Axes>"
      ]
     },
     "metadata": {},
     "output_type": "display_data"
    }
   ],
   "source": [
    "from sklearn.metrics import roc_curve, roc_auc_score\n",
    "fpr, tpr, threshold = roc_curve(y_true, y_pred)\n",
    "plt.plot(fpr, tpr)\n",
    "plt.xlabel('False Positive Rate')\n",
    "plt.ylabel('True Positive Rate')"
   ]
  },
  {
   "cell_type": "code",
   "execution_count": 77,
   "id": "c0ad5841",
   "metadata": {},
   "outputs": [],
   "source": [
    "paramGrid = ParamGridBuilder()\\\n",
    "            .addGrid(lr.regParam, [0.01,0.5,2.0])\\\n",
    "            .addGrid(lr.elasticNetParam, [0.0,0.5,1.0])\\\n",
    "            .addGrid(lr.maxIter, [1,5,10])\\\n",
    "            .build()\n"
   ]
  },
  {
   "cell_type": "code",
   "execution_count": 78,
   "id": "eb4d3f7a",
   "metadata": {},
   "outputs": [],
   "source": [
    "cv = CrossValidator(estimator=lr, estimatorParamMaps=paramGrid,\n",
    "                    evaluator=eval, numFolds=5 , parallelism=4)"
   ]
  },
  {
   "cell_type": "code",
   "execution_count": 79,
   "id": "7722de57",
   "metadata": {},
   "outputs": [],
   "source": [
    "cvModel = cv.fit(train)"
   ]
  },
  {
   "cell_type": "code",
   "execution_count": 80,
   "id": "42fbf725",
   "metadata": {},
   "outputs": [
    {
     "data": {
      "text/plain": [
       "0.771215007644792"
      ]
     },
     "execution_count": 80,
     "metadata": {},
     "output_type": "execute_result"
    }
   ],
   "source": [
    "predictions_cv = cvModel.transform(test)\n",
    "eval.evaluate(predictions_cv)"
   ]
  },
  {
   "cell_type": "code",
   "execution_count": 81,
   "id": "af9f66a4",
   "metadata": {},
   "outputs": [
    {
     "data": {
      "text/plain": [
       "0.7630732400688263"
      ]
     },
     "execution_count": 81,
     "metadata": {},
     "output_type": "execute_result"
    }
   ],
   "source": [
    "FP = predictions_cv.where(predictions_cv[\"OBESITY\"] == predictions_cv[\"prediction\"]).count()\n",
    "accuracy = FP /float(predictions_cv.count())\n",
    "accuracy"
   ]
  },
  {
   "attachments": {},
   "cell_type": "markdown",
   "id": "52ed74c5",
   "metadata": {},
   "source": [
    "### Decision trees"
   ]
  },
  {
   "cell_type": "code",
   "execution_count": 82,
   "id": "640b0576",
   "metadata": {},
   "outputs": [
    {
     "name": "stdout",
     "output_type": "stream",
     "text": [
      "  % Total    % Received % Xferd  Average Speed   Time    Time     Time  Current\n",
      "                                 Dload  Upload   Total   Spent    Left  Speed\n",
      "100  257k  100  257k    0     0   390k      0 --:--:-- --:--:-- --:--:--  390k\n",
      "+------+---+------+------+------------------------------+----+----+---+----------+-----+----+---+---+---+----------+--------------------+-------------------+\n",
      "|Gender|Age|Height|Weight|family_history_with_overweight|FAVC|FCVC|NCP|      CAEC|SMOKE|CH2O|SCC|FAF|TUE|      CALC|              MTRANS|         NObeyesdad|\n",
      "+------+---+------+------+------------------------------+----+----+---+----------+-----+----+---+---+---+----------+--------------------+-------------------+\n",
      "|Female| 21|  1.62|    64|                           yes|  no|   2|  3| Sometimes|   no|   2| no|  0|  1|        no|Public_Transporta...|      Normal_Weight|\n",
      "|Female| 21|  1.52|    56|                           yes|  no|   3|  3| Sometimes|  yes|   3|yes|  3|  0| Sometimes|Public_Transporta...|      Normal_Weight|\n",
      "|  Male| 23|   1.8|    77|                           yes|  no|   2|  3| Sometimes|   no|   2| no|  2|  1|Frequently|Public_Transporta...|      Normal_Weight|\n",
      "|  Male| 27|   1.8|    87|                            no|  no|   3|  3| Sometimes|   no|   2| no|  2|  0|Frequently|             Walking| Overweight_Level_I|\n",
      "|  Male| 22|  1.78|  89.8|                            no|  no|   2|  1| Sometimes|   no|   2| no|  0|  0| Sometimes|Public_Transporta...|Overweight_Level_II|\n",
      "|  Male| 29|  1.62|    53|                            no| yes|   2|  3| Sometimes|   no|   2| no|  0|  0| Sometimes|          Automobile|      Normal_Weight|\n",
      "|Female| 23|   1.5|    55|                           yes| yes|   3|  3| Sometimes|   no|   2| no|  1|  0| Sometimes|           Motorbike|      Normal_Weight|\n",
      "|  Male| 22|  1.64|    53|                            no|  no|   2|  3| Sometimes|   no|   2| no|  3|  0| Sometimes|Public_Transporta...|      Normal_Weight|\n",
      "|  Male| 24|  1.78|    64|                           yes| yes|   3|  3| Sometimes|   no|   2| no|  1|  1|Frequently|Public_Transporta...|      Normal_Weight|\n",
      "|  Male| 22|  1.72|    68|                           yes| yes|   2|  3| Sometimes|   no|   2| no|  1|  1|        no|Public_Transporta...|      Normal_Weight|\n",
      "|  Male| 26|  1.85|   105|                           yes| yes|   3|  3|Frequently|   no|   3| no|  2|  2| Sometimes|Public_Transporta...|     Obesity_Type_I|\n",
      "|Female| 21|  1.72|    80|                           yes| yes|   2|  3|Frequently|   no|   2|yes|  2|  1| Sometimes|Public_Transporta...|Overweight_Level_II|\n",
      "|  Male| 22|  1.65|    56|                            no|  no|   3|  3| Sometimes|   no|   3| no|  2|  0| Sometimes|Public_Transporta...|      Normal_Weight|\n",
      "|  Male| 41|   1.8|    99|                            no| yes|   2|  3| Sometimes|   no|   2| no|  2|  1|Frequently|          Automobile|     Obesity_Type_I|\n",
      "|  Male| 23|  1.77|    60|                           yes| yes|   3|  1| Sometimes|   no|   1| no|  1|  1| Sometimes|Public_Transporta...|      Normal_Weight|\n",
      "|Female| 22|   1.7|    66|                           yes|  no|   3|  3|    Always|   no|   2|yes|  2|  1| Sometimes|Public_Transporta...|      Normal_Weight|\n",
      "|  Male| 27|  1.93|   102|                           yes| yes|   2|  1| Sometimes|   no|   1| no|  1|  0| Sometimes|Public_Transporta...|Overweight_Level_II|\n",
      "|Female| 29|  1.53|    78|                            no| yes|   2|  1| Sometimes|   no|   2| no|  0|  0|        no|          Automobile|     Obesity_Type_I|\n",
      "|Female| 30|  1.71|    82|                           yes| yes|   3|  4|Frequently|  yes|   1| no|  0|  0|        no|          Automobile|Overweight_Level_II|\n",
      "|Female| 23|  1.65|    70|                           yes|  no|   2|  1| Sometimes|   no|   2| no|  0|  0| Sometimes|Public_Transporta...| Overweight_Level_I|\n",
      "+------+---+------+------+------------------------------+----+----+---+----------+-----+----+---+---+---+----------+--------------------+-------------------+\n",
      "only showing top 20 rows\n",
      "\n"
     ]
    }
   ],
   "source": [
    "!curl https://raw.githubusercontent.com/Sepay/Programming/main/obesity.csv >> obesity.csv\n",
    "    \n",
    "df_knn = spark.read.csv('obesity.csv',header=True,sep=\",\")\n",
    "df_knn.show()"
   ]
  },
  {
   "cell_type": "code",
   "execution_count": 83,
   "id": "d569aa48",
   "metadata": {},
   "outputs": [],
   "source": [
    "df_knn = df_knn.drop('TUE')\n",
    "df_knn = df_knn.withColumn(\"CAEC\", when(col(\"CAEC\")== \"Sometimes\", 0).when(col(\"CAEC\") == \"Frequently\", 1).otherwise(2))\n",
    "df_knn = df_knn.withColumn(\"Gender\", when(col(\"Gender\")== \"Female\", 0).otherwise(1))\n",
    "df_knn = df_knn.withColumn(\"family_history_with_overweight\", when(col(\"family_history_with_overweight\")== \"yes\", 0).otherwise(1))\n",
    "df_knn = df_knn.withColumn(\"FAVC\", when(col(\"FAVC\")== \"yes\", 0).otherwise(1))\n",
    "df_knn = df_knn.withColumn(\"SMOKE\", when(col(\"SMOKE\")== \"yes\", 0).otherwise(1))\n",
    "df_knn = df_knn.withColumn(\"SCC\", when(col(\"SCC\")== \"yes\", 0).otherwise(1))\n",
    "df_knn = df_knn.withColumn(\"CALC\", when(col(\"CALC\")== \"no\", 0).when(col(\"CALC\") == \"Sometimes\", 1).when(col(\"CALC\")==\"Frequently\", 2).otherwise(3))\n",
    "df_knn = df_knn.withColumn(\"MTRANS\", when(col(\"MTRANS\")== \"Public_Transportation\", 0).when(col(\"MTRANS\") == \"Automobile\", 0).when(col(\"MTRANS\")==\"Motorbike\", 0).otherwise(1))\n",
    "df_knn = df_knn.withColumn(\"NObeyesdad\", when(col(\"NObeyesdad\")== \"Insufficient_Weight\", 1).when(col(\"NObeyesdad\") == \"Normal_Weight\", 2).when(col(\"NObeyesdad\")==\"Overweight_Level_I\", 3).when(col(\"NObeyesdad\")== \"Overweight_Level_II\",4).when(col(\"NObeyesdad\")==\"Obesity_Type_I\", 5).otherwise(6))"
   ]
  },
  {
   "cell_type": "code",
   "execution_count": 84,
   "id": "0ba73ac8",
   "metadata": {},
   "outputs": [],
   "source": [
    "df_knn=df_knn.withColumnRenamed(\"family_history_with_overweight\",\"FH\")\n",
    "df_knn=df_knn.withColumnRenamed('FAVC','CALORICFOOD')\n",
    "df_knn=df_knn.withColumnRenamed('Gender','GENDER')\n",
    "df_knn=df_knn.withColumnRenamed('Age','AGE')\n",
    "df_knn=df_knn.withColumnRenamed('Weight','WEIGHT')\n",
    "df_knn=df_knn.withColumnRenamed('Height','HEIGHT')\n",
    "df_knn=df_knn.withColumnRenamed('FCVC','VEGET')\n",
    "df_knn=df_knn.withColumnRenamed('NCP','MEALS')\n",
    "df_knn=df_knn.withColumnRenamed('CAEC','BETWEENMEALS')\n",
    "df_knn=df_knn.withColumnRenamed('CH2O','H20')\n",
    "df_knn=df_knn.withColumnRenamed('SCC','CALORIES')\n",
    "df_knn=df_knn.withColumnRenamed('FAF','PHYSY')\n",
    "df_knn=df_knn.withColumnRenamed('CALC','ALCH')\n",
    "df_knn=df_knn.withColumnRenamed('MTRANS','TRANSPORT')\n",
    "df_knn=df_knn.withColumnRenamed('NObeyesdad','OBESITY')"
   ]
  },
  {
   "cell_type": "code",
   "execution_count": 85,
   "id": "c336a7da",
   "metadata": {},
   "outputs": [
    {
     "name": "stdout",
     "output_type": "stream",
     "text": [
      "root\n",
      " |-- GENDER: integer (nullable = false)\n",
      " |-- AGE: integer (nullable = true)\n",
      " |-- HEIGHT: string (nullable = true)\n",
      " |-- WEIGHT: integer (nullable = true)\n",
      " |-- FH: integer (nullable = false)\n",
      " |-- CALORICFOOD: integer (nullable = false)\n",
      " |-- VEGET: integer (nullable = true)\n",
      " |-- MEALS: integer (nullable = true)\n",
      " |-- BETWEENMEALS: integer (nullable = false)\n",
      " |-- SMOKE: integer (nullable = false)\n",
      " |-- H20: integer (nullable = true)\n",
      " |-- CALORIES: integer (nullable = false)\n",
      " |-- PHYSY: integer (nullable = true)\n",
      " |-- ALCH: integer (nullable = false)\n",
      " |-- TRANSPORT: integer (nullable = false)\n",
      " |-- OBESITY: integer (nullable = false)\n",
      "\n"
     ]
    }
   ],
   "source": [
    "df_knn = df_knn.withColumn(\"VEGET\",col(\"VEGET\").cast(IntegerType())) \\\n",
    "    .withColumn(\"MEALS\",col(\"MEALS\").cast(IntegerType())) \\\n",
    "    .withColumn(\"H20\",col(\"H20\").cast(IntegerType())) \\\n",
    "    .withColumn(\"PHYSY\",col(\"PHYSY\").cast(IntegerType()))\\\n",
    "    .withColumn(\"AGE\",col(\"AGE\").cast(IntegerType()))\\\n",
    "    .withColumn(\"WEIGHT\",col(\"WEIGHT\").cast(IntegerType()))\n",
    "df_knn = df_knn.dropna()\n",
    "df_knn.printSchema()"
   ]
  },
  {
   "cell_type": "code",
   "execution_count": 86,
   "id": "9fa70908",
   "metadata": {},
   "outputs": [],
   "source": [
    "from pyspark.ml.classification import DecisionTreeClassifier\n",
    "from pyspark.ml.evaluation import MulticlassClassificationEvaluator"
   ]
  },
  {
   "cell_type": "code",
   "execution_count": 87,
   "id": "f4817a55",
   "metadata": {},
   "outputs": [],
   "source": [
    "assembleTree=VectorAssembler(inputCols=[\n",
    "    'FH','CALORICFOOD', \"SMOKE\",\n",
    "    \"VEGET\", \"MEALS\", \"BETWEENMEALS\",\n",
    "    \"H20\", \"CALORIES\", \"PHYSY\",\n",
    "    \"ALCH\", \"GENDER\", \"AGE\",\n",
    "    \"WEIGHT\"\n",
    "], outputCol='features')"
   ]
  },
  {
   "cell_type": "code",
   "execution_count": 88,
   "id": "af6473ee",
   "metadata": {},
   "outputs": [],
   "source": [
    "assembledTree_data=assembleTree.transform(df_knn)"
   ]
  },
  {
   "cell_type": "code",
   "execution_count": 105,
   "id": "7efae9a3",
   "metadata": {},
   "outputs": [
    {
     "name": "stdout",
     "output_type": "stream",
     "text": [
      "+--------------------------------------------------------------------------------------------------------------------------------------------------------------------------+\n",
      "|standardized                                                                                                                                                              |\n",
      "+--------------------------------------------------------------------------------------------------------------------------------------------------------------------------+\n",
      "|[0.0,3.1220960102077653,6.999846873386443,3.3374534991170357,3.6140325590437814,0.0,3.341006643637981,4.79967658472357,0.0,0.0,0.0,3.329520177738846,2.4541084029956175]  |\n",
      "|[0.0,3.1220960102077653,0.0,5.006180248675554,3.6140325590437814,0.0,5.0115099654569715,0.0,3.6030814472792385,1.9403171893801079,0.0,3.329520177738846,2.147344852621165]|\n",
      "+--------------------------------------------------------------------------------------------------------------------------------------------------------------------------+\n",
      "only showing top 2 rows\n",
      "\n",
      "+--------------------+-------+\n",
      "|            features|OBESITY|\n",
      "+--------------------+-------+\n",
      "|[0.0,1.0,1.0,2.0,...|      2|\n",
      "|[0.0,1.0,0.0,3.0,...|      2|\n",
      "|[0.0,1.0,1.0,2.0,...|      2|\n",
      "|[1.0,1.0,1.0,3.0,...|      3|\n",
      "|[1.0,1.0,1.0,2.0,...|      4|\n",
      "|[1.0,0.0,1.0,2.0,...|      2|\n",
      "|[0.0,0.0,1.0,3.0,...|      2|\n",
      "|[1.0,1.0,1.0,2.0,...|      2|\n",
      "|[0.0,0.0,1.0,3.0,...|      2|\n",
      "|[0.0,0.0,1.0,2.0,...|      2|\n",
      "|[0.0,0.0,1.0,3.0,...|      5|\n",
      "|[0.0,0.0,1.0,2.0,...|      4|\n",
      "|[1.0,1.0,1.0,3.0,...|      2|\n",
      "|[1.0,0.0,1.0,2.0,...|      5|\n",
      "|[0.0,0.0,1.0,3.0,...|      2|\n",
      "|[0.0,1.0,1.0,3.0,...|      2|\n",
      "|[0.0,0.0,1.0,2.0,...|      4|\n",
      "|[1.0,0.0,1.0,2.0,...|      5|\n",
      "|(13,[3,4,5,6,7,11...|      4|\n",
      "|[0.0,1.0,1.0,2.0,...|      3|\n",
      "+--------------------+-------+\n",
      "only showing top 20 rows\n",
      "\n"
     ]
    }
   ],
   "source": [
    "scale=StandardScaler(inputCol='features',outputCol='standardized')\n",
    "scale=scale.fit(assembledTree_data)\n",
    "scale_outputTree= scale.transform(assembledTree_data)\n",
    "\n",
    "scale_outputTree.select('standardized').show(2,truncate=False)\n",
    "\n",
    "finalDataTree = scale_outputTree.select(\"features\", \"OBESITY\")\n",
    "trainT, testT =finalDataTree.randomSplit([0.8,0.2])"
   ]
  },
  {
   "cell_type": "code",
   "execution_count": 90,
   "id": "53616c9b",
   "metadata": {},
   "outputs": [
    {
     "name": "stdout",
     "output_type": "stream",
     "text": [
      "+--------------------+-------+--------------------+--------------------+----------+\n",
      "|            features|OBESITY|       rawPrediction|         probability|prediction|\n",
      "+--------------------+-------+--------------------+--------------------+----------+\n",
      "|(13,[0,2,3,4,6,11...|      1|[0.0,4697.0,744.0...|[0.0,0.8632604300...|       1.0|\n",
      "|(13,[0,2,3,4,6,11...|      1|[0.0,4697.0,744.0...|[0.0,0.8632604300...|       1.0|\n",
      "|(13,[1,3,4,6,8,11...|      2|[0.0,210.0,220.0,...|[0.0,0.4883720930...|       2.0|\n",
      "|(13,[1,3,4,6,8,11...|      2|[0.0,210.0,220.0,...|[0.0,0.4883720930...|       2.0|\n",
      "|(13,[1,3,4,6,8,11...|      2|[0.0,210.0,220.0,...|[0.0,0.4883720930...|       2.0|\n",
      "|(13,[2,3,4,6,7,11...|      3|[0.0,0.0,1273.0,3...|[0.0,0.0,0.25,0.7...|       3.0|\n",
      "|(13,[2,3,4,6,7,11...|      3|[0.0,0.0,1273.0,3...|[0.0,0.0,0.25,0.7...|       3.0|\n",
      "|(13,[2,3,4,6,7,11...|      5|[0.0,0.0,24.0,764...|[0.0,0.0,0.003754...|       5.0|\n",
      "|(13,[2,3,4,6,7,11...|      5|[0.0,0.0,24.0,764...|[0.0,0.0,0.003754...|       5.0|\n",
      "|(13,[2,3,4,6,7,11...|      5|[0.0,0.0,24.0,764...|[0.0,0.0,0.003754...|       5.0|\n",
      "|(13,[2,3,4,6,7,11...|      5|[0.0,0.0,24.0,764...|[0.0,0.0,0.003754...|       5.0|\n",
      "|(13,[2,3,4,6,7,11...|      5|[0.0,0.0,24.0,764...|[0.0,0.0,0.003754...|       5.0|\n",
      "|(13,[2,3,4,6,7,11...|      5|[0.0,0.0,24.0,764...|[0.0,0.0,0.003754...|       5.0|\n",
      "|(13,[2,3,4,6,7,11...|      2|[0.0,0.0,1273.0,3...|[0.0,0.0,0.25,0.7...|       3.0|\n",
      "|(13,[2,3,4,6,7,11...|      3|[0.0,0.0,1273.0,3...|[0.0,0.0,0.25,0.7...|       3.0|\n",
      "|(13,[2,3,4,6,7,11...|      3|[0.0,0.0,1273.0,3...|[0.0,0.0,0.25,0.7...|       3.0|\n",
      "|(13,[2,3,4,6,7,11...|      3|[0.0,0.0,1273.0,3...|[0.0,0.0,0.25,0.7...|       3.0|\n",
      "|(13,[2,3,4,6,7,11...|      3|[0.0,0.0,1273.0,3...|[0.0,0.0,0.25,0.7...|       3.0|\n",
      "|(13,[2,3,4,6,7,11...|      3|[0.0,0.0,1273.0,3...|[0.0,0.0,0.25,0.7...|       3.0|\n",
      "|(13,[2,3,4,6,7,11...|      3|[0.0,0.0,1273.0,3...|[0.0,0.0,0.25,0.7...|       3.0|\n",
      "+--------------------+-------+--------------------+--------------------+----------+\n",
      "only showing top 20 rows\n",
      "\n"
     ]
    }
   ],
   "source": [
    "deciTree = DecisionTreeClassifier(featuresCol=\"features\", labelCol=\"OBESITY\")\n",
    "deciTree = deciTree.fit(trainT)\n",
    "\n",
    "predTree = deciTree.transform(testT)\n",
    "predTree.show()"
   ]
  },
  {
   "cell_type": "code",
   "execution_count": 91,
   "id": "24f026aa",
   "metadata": {},
   "outputs": [
    {
     "name": "stdout",
     "output_type": "stream",
     "text": [
      "0.7792224368978486\n"
     ]
    }
   ],
   "source": [
    "evaluator=MulticlassClassificationEvaluator(predictionCol=\"prediction\", labelCol=\"OBESITY\")\n",
    "acc = evaluator.evaluate(predTree) \n",
    "print(acc)"
   ]
  },
  {
   "cell_type": "code",
   "execution_count": 92,
   "id": "b8f81f27",
   "metadata": {},
   "outputs": [],
   "source": [
    "y_pred=predTree.select(\"prediction\").collect()\n",
    "y_orig=predTree.select(\"OBESITY\").collect()"
   ]
  },
  {
   "cell_type": "code",
   "execution_count": 93,
   "id": "013042e3",
   "metadata": {},
   "outputs": [
    {
     "name": "stdout",
     "output_type": "stream",
     "text": [
      "Confusion Matrix:\n",
      "[[1565  217    0    0    0    0]\n",
      " [ 283 1079  311  168    9    0]\n",
      " [   0  201  975  541  211    0]\n",
      " [   0   25    0 1159  656   55]\n",
      " [   0    0   24   95 2027  152]\n",
      " [   0    0    0    0   18 4079]]\n"
     ]
    }
   ],
   "source": [
    "\n",
    "cmTree = confusion_matrix(y_orig, y_pred)\n",
    "print(\"Confusion Matrix:\")\n",
    "print(cmTree)\n"
   ]
  },
  {
   "cell_type": "code",
   "execution_count": 94,
   "id": "e08b0340",
   "metadata": {},
   "outputs": [],
   "source": [
    "#Desenhar a matriz"
   ]
  },
  {
   "cell_type": "code",
   "execution_count": null,
   "id": "01968d7b",
   "metadata": {},
   "outputs": [],
   "source": [
    "\n"
   ]
  },
  {
   "cell_type": "code",
   "execution_count": 95,
   "id": "bd6de876",
   "metadata": {},
   "outputs": [],
   "source": [
    "# Load libraries\n",
    "import pandas as pd\n",
    "from sklearn.tree import DecisionTreeClassifier # Import Decision Tree Classifier\n",
    "from sklearn.model_selection import train_test_split # Import train_test_split function\n",
    "from sklearn import metrics\n",
    "\n"
   ]
  },
  {
   "cell_type": "code",
   "execution_count": 104,
   "id": "b173fd95",
   "metadata": {},
   "outputs": [
    {
     "ename": "TypeError",
     "evalue": "object of type 'Column' has no len()",
     "output_type": "error",
     "traceback": [
      "\u001b[0;31m---------------------------------------------------------------------------\u001b[0m",
      "\u001b[0;31mTypeError\u001b[0m                                 Traceback (most recent call last)",
      "Cell \u001b[0;32mIn[104], line 4\u001b[0m\n\u001b[1;32m      1\u001b[0m X \u001b[39m=\u001b[39m finalDataTree[\u001b[39m\"\u001b[39m\u001b[39mfeatures\u001b[39m\u001b[39m\"\u001b[39m]\n\u001b[1;32m      2\u001b[0m y \u001b[39m=\u001b[39m finalDataTree[\u001b[39m\"\u001b[39m\u001b[39mOBESITY\u001b[39m\u001b[39m\"\u001b[39m]\n\u001b[0;32m----> 4\u001b[0m X_train, X_test, y_train, y_test \u001b[39m=\u001b[39m train_test_split(X, y, test_size\u001b[39m=\u001b[39;49m\u001b[39m0.3\u001b[39;49m)\n",
      "File \u001b[0;32m~/.local/lib/python3.10/site-packages/sklearn/model_selection/_split.py:2559\u001b[0m, in \u001b[0;36mtrain_test_split\u001b[0;34m(test_size, train_size, random_state, shuffle, stratify, *arrays)\u001b[0m\n\u001b[1;32m   2556\u001b[0m \u001b[39mif\u001b[39;00m n_arrays \u001b[39m==\u001b[39m \u001b[39m0\u001b[39m:\n\u001b[1;32m   2557\u001b[0m     \u001b[39mraise\u001b[39;00m \u001b[39mValueError\u001b[39;00m(\u001b[39m\"\u001b[39m\u001b[39mAt least one array required as input\u001b[39m\u001b[39m\"\u001b[39m)\n\u001b[0;32m-> 2559\u001b[0m arrays \u001b[39m=\u001b[39m indexable(\u001b[39m*\u001b[39;49marrays)\n\u001b[1;32m   2561\u001b[0m n_samples \u001b[39m=\u001b[39m _num_samples(arrays[\u001b[39m0\u001b[39m])\n\u001b[1;32m   2562\u001b[0m n_train, n_test \u001b[39m=\u001b[39m _validate_shuffle_split(\n\u001b[1;32m   2563\u001b[0m     n_samples, test_size, train_size, default_test_size\u001b[39m=\u001b[39m\u001b[39m0.25\u001b[39m\n\u001b[1;32m   2564\u001b[0m )\n",
      "File \u001b[0;32m~/.local/lib/python3.10/site-packages/sklearn/utils/validation.py:443\u001b[0m, in \u001b[0;36mindexable\u001b[0;34m(*iterables)\u001b[0m\n\u001b[1;32m    424\u001b[0m \u001b[39m\u001b[39m\u001b[39m\"\"\"Make arrays indexable for cross-validation.\u001b[39;00m\n\u001b[1;32m    425\u001b[0m \n\u001b[1;32m    426\u001b[0m \u001b[39mChecks consistent length, passes through None, and ensures that everything\u001b[39;00m\n\u001b[0;32m   (...)\u001b[0m\n\u001b[1;32m    439\u001b[0m \u001b[39m    sparse matrix, or dataframe) or `None`.\u001b[39;00m\n\u001b[1;32m    440\u001b[0m \u001b[39m\"\"\"\u001b[39;00m\n\u001b[1;32m    442\u001b[0m result \u001b[39m=\u001b[39m [_make_indexable(X) \u001b[39mfor\u001b[39;00m X \u001b[39min\u001b[39;00m iterables]\n\u001b[0;32m--> 443\u001b[0m check_consistent_length(\u001b[39m*\u001b[39;49mresult)\n\u001b[1;32m    444\u001b[0m \u001b[39mreturn\u001b[39;00m result\n",
      "File \u001b[0;32m~/.local/lib/python3.10/site-packages/sklearn/utils/validation.py:394\u001b[0m, in \u001b[0;36mcheck_consistent_length\u001b[0;34m(*arrays)\u001b[0m\n\u001b[1;32m    383\u001b[0m \u001b[39mdef\u001b[39;00m \u001b[39mcheck_consistent_length\u001b[39m(\u001b[39m*\u001b[39marrays):\n\u001b[1;32m    384\u001b[0m \u001b[39m    \u001b[39m\u001b[39m\"\"\"Check that all arrays have consistent first dimensions.\u001b[39;00m\n\u001b[1;32m    385\u001b[0m \n\u001b[1;32m    386\u001b[0m \u001b[39m    Checks whether all objects in arrays have the same shape or length.\u001b[39;00m\n\u001b[0;32m   (...)\u001b[0m\n\u001b[1;32m    391\u001b[0m \u001b[39m        Objects that will be checked for consistent length.\u001b[39;00m\n\u001b[1;32m    392\u001b[0m \u001b[39m    \"\"\"\u001b[39;00m\n\u001b[0;32m--> 394\u001b[0m     lengths \u001b[39m=\u001b[39m [_num_samples(X) \u001b[39mfor\u001b[39;00m X \u001b[39min\u001b[39;00m arrays \u001b[39mif\u001b[39;00m X \u001b[39mis\u001b[39;00m \u001b[39mnot\u001b[39;00m \u001b[39mNone\u001b[39;00m]\n\u001b[1;32m    395\u001b[0m     uniques \u001b[39m=\u001b[39m np\u001b[39m.\u001b[39munique(lengths)\n\u001b[1;32m    396\u001b[0m     \u001b[39mif\u001b[39;00m \u001b[39mlen\u001b[39m(uniques) \u001b[39m>\u001b[39m \u001b[39m1\u001b[39m:\n",
      "File \u001b[0;32m~/.local/lib/python3.10/site-packages/sklearn/utils/validation.py:394\u001b[0m, in \u001b[0;36m<listcomp>\u001b[0;34m(.0)\u001b[0m\n\u001b[1;32m    383\u001b[0m \u001b[39mdef\u001b[39;00m \u001b[39mcheck_consistent_length\u001b[39m(\u001b[39m*\u001b[39marrays):\n\u001b[1;32m    384\u001b[0m \u001b[39m    \u001b[39m\u001b[39m\"\"\"Check that all arrays have consistent first dimensions.\u001b[39;00m\n\u001b[1;32m    385\u001b[0m \n\u001b[1;32m    386\u001b[0m \u001b[39m    Checks whether all objects in arrays have the same shape or length.\u001b[39;00m\n\u001b[0;32m   (...)\u001b[0m\n\u001b[1;32m    391\u001b[0m \u001b[39m        Objects that will be checked for consistent length.\u001b[39;00m\n\u001b[1;32m    392\u001b[0m \u001b[39m    \"\"\"\u001b[39;00m\n\u001b[0;32m--> 394\u001b[0m     lengths \u001b[39m=\u001b[39m [_num_samples(X) \u001b[39mfor\u001b[39;00m X \u001b[39min\u001b[39;00m arrays \u001b[39mif\u001b[39;00m X \u001b[39mis\u001b[39;00m \u001b[39mnot\u001b[39;00m \u001b[39mNone\u001b[39;00m]\n\u001b[1;32m    395\u001b[0m     uniques \u001b[39m=\u001b[39m np\u001b[39m.\u001b[39munique(lengths)\n\u001b[1;32m    396\u001b[0m     \u001b[39mif\u001b[39;00m \u001b[39mlen\u001b[39m(uniques) \u001b[39m>\u001b[39m \u001b[39m1\u001b[39m:\n",
      "File \u001b[0;32m~/.local/lib/python3.10/site-packages/sklearn/utils/validation.py:334\u001b[0m, in \u001b[0;36m_num_samples\u001b[0;34m(x)\u001b[0m\n\u001b[1;32m    331\u001b[0m         \u001b[39mraise\u001b[39;00m \u001b[39mTypeError\u001b[39;00m(message)\n\u001b[1;32m    333\u001b[0m \u001b[39mif\u001b[39;00m \u001b[39mhasattr\u001b[39m(x, \u001b[39m\"\u001b[39m\u001b[39mshape\u001b[39m\u001b[39m\"\u001b[39m) \u001b[39mand\u001b[39;00m x\u001b[39m.\u001b[39mshape \u001b[39mis\u001b[39;00m \u001b[39mnot\u001b[39;00m \u001b[39mNone\u001b[39;00m:\n\u001b[0;32m--> 334\u001b[0m     \u001b[39mif\u001b[39;00m \u001b[39mlen\u001b[39;49m(x\u001b[39m.\u001b[39;49mshape) \u001b[39m==\u001b[39m \u001b[39m0\u001b[39m:\n\u001b[1;32m    335\u001b[0m         \u001b[39mraise\u001b[39;00m \u001b[39mTypeError\u001b[39;00m(\n\u001b[1;32m    336\u001b[0m             \u001b[39m\"\u001b[39m\u001b[39mSingleton array \u001b[39m\u001b[39m%r\u001b[39;00m\u001b[39m cannot be considered a valid collection.\u001b[39m\u001b[39m\"\u001b[39m \u001b[39m%\u001b[39m x\n\u001b[1;32m    337\u001b[0m         )\n\u001b[1;32m    338\u001b[0m     \u001b[39m# Check that shape is returning an integer or default to len\u001b[39;00m\n\u001b[1;32m    339\u001b[0m     \u001b[39m# Dask dataframes may not return numeric shape[0] value\u001b[39;00m\n",
      "\u001b[0;31mTypeError\u001b[0m: object of type 'Column' has no len()"
     ]
    }
   ],
   "source": [
    "X = finalDataTree[\"features\"]\n",
    "y = finalDataTree[\"OBESITY\"]\n",
    "\n",
    "X_train, X_test, y_train, y_test = train_test_split(X, y, test_size=0.3)"
   ]
  },
  {
   "cell_type": "code",
   "execution_count": null,
   "id": "76c76e58",
   "metadata": {},
   "outputs": [],
   "source": []
  }
 ],
 "metadata": {
  "kernelspec": {
   "display_name": "Python 3",
   "language": "python",
   "name": "python3"
  },
  "language_info": {
   "codemirror_mode": {
    "name": "ipython",
    "version": 3
   },
   "file_extension": ".py",
   "mimetype": "text/x-python",
   "name": "python",
   "nbconvert_exporter": "python",
   "pygments_lexer": "ipython3",
   "version": "3.10.6"
  },
  "vscode": {
   "interpreter": {
    "hash": "916dbcbb3f70747c44a77c7bcd40155683ae19c65e1c03b4aa3499c5328201f1"
   }
  }
 },
 "nbformat": 4,
 "nbformat_minor": 5
}
